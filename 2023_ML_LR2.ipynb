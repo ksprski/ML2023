{
 "cells": [
  {
   "cell_type": "code",
   "execution_count": 2,
   "id": "338d3b61",
   "metadata": {},
   "outputs": [],
   "source": [
    "import numpy as np\n",
    "import matplotlib.pyplot as plt\n",
    "import pandas as pd\n",
    "import numdifftools as nd\n"
   ]
  },
  {
   "cell_type": "markdown",
   "id": "846de5f5",
   "metadata": {},
   "source": [
    "# <font color = 'red'> ЛР 2. Дифференцирование функций многих переменных. Линейная регрессия по произвольному базису. </font>"
   ]
  },
  {
   "cell_type": "markdown",
   "id": "be203bc0",
   "metadata": {},
   "source": [
    "Сложность: <font color = 'orange'> Нормально  </font>.\n",
    "\n",
    "Дата составления: 07.09.2023\n",
    "\n",
    "Срок выполнения: 2 недели (с момента первой практики после выдачи).\n",
    "\n",
    "Автор: ст. преподаватель Кушнеров А.В."
   ]
  },
  {
   "cell_type": "markdown",
   "id": "5c9f72d2",
   "metadata": {},
   "source": [
    "## <font color = 'green'> 1. Дифференцирование функции векторного аргумента. База.  </font>"
   ]
  },
  {
   "cell_type": "markdown",
   "id": "17525728",
   "metadata": {},
   "source": [
    "Вспоминаем понятие дифференцирования.\n",
    "\n",
    "Пусть, для начала, $f$ - функция одного аргумента, возвращающая один аргумент. Иными словами, $f:\\mathbb{R} \\rightarrow \\mathbb{R}$.\n",
    "\n",
    "Говорят, что $f$ **дифференцируема** в точке $x_{0}$, если существует конечный предел: $$\\lim\\limits_{h \\to 0} \\frac{f(x_{0}+h) - f(x_{0})}{h} = f'(x_{0})$$.\n",
    "\n",
    "Его называют производной функции в точке $x_{0}$.  Это жу информацию можно записать в дифференциальной форме:  $$f(x_{0}+h) - f(x_{0}) = f'(x_{0}) h + o(h) = [Df_{x_{0}}](h) + o(h)$$.Величину $f'(x_{0}) h = [Df_{x_{0}}](h)$ называют **дифференциалом функции**.\n",
    "\n",
    "\n",
    "Теперь предположим, что функция $f$ работает несколько иначе. Теперь она принимает на вход векторный аргумент, а возвращает всё ещё скалярный $f:\\mathbb{R^{m}} \\rightarrow \\mathbb{R}$. \n",
    "\n",
    "Теперь понятие дифференциала вводят несколько иначе. Мы всё также можем записать: $$f(\\overline{x_{0}}+\\overline{h}) - f(\\overline{x_{0}}) = \\sum\\limits_{j=1}^m \\frac{\\partial f}{\\partial x_{m}}\\bigg\\rvert_{x=\\overline{x_{0}}}h_{i} = [Df_{x_{0}}](\\overline{h}) + o(||\\overline{h}||)$$.\n",
    "\n",
    "Или же в более сжатой форме: $$f(\\overline{x_{0}}+\\overline{h}) - f(\\overline{x_{0}}) = (\\nabla_{x_{0}} f)\\cdot\\overline{h} + o(||\\overline{h}||) $$\n",
    "\n",
    "Под производной в этом случае понимают **вектор** (чаще его пищут в виде вектор-столбца) градиента $\\nabla_{x_{0}} f = \\begin{bmatrix} \\frac{\\partial f}{\\partial x_{1}}\\\\ \\frac{\\partial f}{\\partial x_{2}}\\\\...\\\\\\frac{\\partial f}{\\partial x_{m}} \\end{bmatrix}\\bigg\\rvert_{x=\\overline{x_{0}}}$.\n",
    "\n",
    "В МО мы вынуждены работать с задачами оптимизации как раз таких функций, что немедленно отсылает нас к производным. В частности, используя лекционные записи, вы легко можете получить две несложных формулы матричного дифференцирования.\n",
    "\n",
    "1. Если функция $f(\\overline{x}) = \\overline{a}^{T} \\cdot\\overline{x}$, то $f'(\\overline{x}) = \\overline{a} $. Где $\\overline{x},\\overline{a} $ - вектор столбцы.\n",
    "\n",
    "2.  Если функция $f(\\overline{x}) = \\overline{x}^{T} A\\overline{x}$, то $f'(\\overline{x}) = (A+A^{T})\\overline{x} $. Где $\\overline{x}$ - вектор столбец, $A$ - квадратная матрица соответсвующего размера.\n",
    "\n",
    "\n",
    "В будущем, возможно, мы дополним список. А пока можете поупражняться [самостоятельно](https://atmos.washington.edu/~dennis/MatrixCalculus.pdf). \n",
    "\n",
    "\n",
    "Теперь проверим справедливость формулы 2."
   ]
  },
  {
   "cell_type": "code",
   "execution_count": 4,
   "id": "034be24a",
   "metadata": {},
   "outputs": [
    {
     "data": {
      "text/plain": [
       "array([[5, 4, 6, 3, 2, 8, 9, 0, 0, 8],\n",
       "       [2, 1, 6, 9, 6, 0, 1, 3, 6, 0],\n",
       "       [0, 4, 3, 9, 4, 3, 3, 8, 9, 3],\n",
       "       [2, 9, 9, 7, 0, 9, 3, 7, 5, 7],\n",
       "       [6, 9, 2, 9, 4, 9, 2, 3, 7, 6],\n",
       "       [6, 9, 5, 8, 7, 0, 6, 9, 6, 0],\n",
       "       [5, 5, 7, 6, 7, 1, 7, 0, 1, 0],\n",
       "       [8, 9, 0, 9, 2, 3, 5, 9, 0, 2],\n",
       "       [3, 1, 5, 3, 0, 2, 6, 0, 5, 8],\n",
       "       [2, 1, 9, 0, 7, 4, 6, 0, 1, 3]])"
      ]
     },
     "execution_count": 4,
     "metadata": {},
     "output_type": "execute_result"
    }
   ],
   "source": [
    "A = np.random.randint(10,size =(10,10))\n",
    "A"
   ]
  },
  {
   "cell_type": "code",
   "execution_count": 5,
   "id": "6b3240e6",
   "metadata": {},
   "outputs": [],
   "source": [
    "def func(x): \n",
    "    return np.dot(np.dot(x.T,A),x) #задаём вектор-функцию согласно формуле 2"
   ]
  },
  {
   "cell_type": "code",
   "execution_count": 6,
   "id": "64df4c5b",
   "metadata": {},
   "outputs": [
    {
     "data": {
      "text/plain": [
       "array([0, 1, 2, 3, 4, 5, 6, 7, 8, 9])"
      ]
     },
     "execution_count": 6,
     "metadata": {},
     "output_type": "execute_result"
    }
   ],
   "source": [
    "x0 = np.arange(0,10) # конкретные значения x0\n",
    "x0"
   ]
  },
  {
   "cell_type": "code",
   "execution_count": 7,
   "id": "05f341d1",
   "metadata": {},
   "outputs": [
    {
     "data": {
      "text/plain": [
       "array([389., 366., 476., 510., 428., 366., 353., 330., 330., 294.])"
      ]
     },
     "execution_count": 7,
     "metadata": {},
     "output_type": "execute_result"
    }
   ],
   "source": [
    "grad = nd.Gradient(func)(x0) #находим производную в точке x0(градиент) встроенными численными методами\n",
    "grad"
   ]
  },
  {
   "cell_type": "code",
   "execution_count": 8,
   "id": "860b66cc",
   "metadata": {},
   "outputs": [
    {
     "data": {
      "text/plain": [
       "array([389, 366, 476, 510, 428, 366, 353, 330, 330, 294])"
      ]
     },
     "execution_count": 8,
     "metadata": {},
     "output_type": "execute_result"
    }
   ],
   "source": [
    "np.dot(A + A.T,x0) # а теперь по нашей формуле. Всё сходится."
   ]
  },
  {
   "cell_type": "markdown",
   "id": "93a43162",
   "metadata": {},
   "source": [
    "<font color = 'red' size = 5>Задание 1 </font>\n",
    "\n",
    "1. Изучите подробно формулы полученные выше. Попрактикуйтесь самостоятельно в их выводе.\n",
    "2. Получите ещё 2 любых формулы для подобного матричного или векторного дифференцирования. Вывод формул кратко оформите в документе.\n",
    "3. Проверьте справедливость полученных вами формул с помощью встроенных функций пакета numdifftools."
   ]
  },
  {
   "cell_type": "markdown",
   "id": "07660196-7935-4147-b7f3-8219bf0dd835",
   "metadata": {},
   "source": [
    "1. $f(x) = x^TAx + b^Tx + c$, где $x$ - вектор столбец, $A$ - квадратная матрица соответсвующего размера, $b$ - вектор столбец, $c$ - константа.\n",
    "\n",
    "Найдем производную следующим образом:\n",
    "\n",
    "* $f(x) = \\sum\\limits_{i=1}^n\\left[x_i \\left(\\sum\\limits_{j=1}^n a_{ij}x_j \\right) + b_ix_i + c_i\\right] =  \\sum\\limits_{i,j=1}^n\\left[ x_i a_{ij}x_j \\right] + \\sum\\limits_{i=1}^n b_ix_i + c_i$\n",
    "* $\\dfrac{\\partial f(x)}{\\partial x_i} = \\sum\\limits_{i,j=1}^n \\left(a_{ij} + a_{ji}\\right)x_i + b_i \\rightarrow$\n",
    "\n",
    "$ \\rightarrow f'(x) = \\left( A + A^T \\right)x + b^{T}$ "
   ]
  },
  {
   "cell_type": "code",
   "execution_count": 9,
   "id": "57b261a0-b7a8-4e05-bc3d-5b2ceb170815",
   "metadata": {},
   "outputs": [
    {
     "data": {
      "text/plain": [
       "(array([[9, 7, 1, 0, 6, 6, 2, 0, 2, 6],\n",
       "        [3, 4, 0, 4, 7, 9, 9, 5, 3, 7],\n",
       "        [8, 3, 2, 8, 2, 1, 0, 2, 5, 0],\n",
       "        [1, 7, 3, 0, 7, 1, 2, 4, 8, 5],\n",
       "        [8, 5, 1, 8, 0, 6, 7, 9, 5, 6],\n",
       "        [1, 5, 3, 4, 7, 9, 9, 6, 1, 0],\n",
       "        [9, 8, 9, 0, 2, 7, 6, 1, 2, 4],\n",
       "        [4, 7, 3, 5, 1, 4, 2, 0, 0, 3],\n",
       "        [7, 7, 6, 0, 6, 8, 4, 1, 2, 6],\n",
       "        [5, 1, 3, 8, 8, 6, 1, 3, 2, 5]]),\n",
       " array([[1],\n",
       "        [9],\n",
       "        [9],\n",
       "        [0],\n",
       "        [4],\n",
       "        [3],\n",
       "        [0],\n",
       "        [5],\n",
       "        [3],\n",
       "        [9]]),\n",
       " 1)"
      ]
     },
     "execution_count": 9,
     "metadata": {},
     "output_type": "execute_result"
    }
   ],
   "source": [
    "A = np.random.randint(10, size=(10, 10))\n",
    "b = np.random.randint(10, size=(10, 1))\n",
    "c = np.random.randint(10)\n",
    "A, b, c"
   ]
  },
  {
   "cell_type": "code",
   "execution_count": 10,
   "id": "09d40ce0-3503-4da5-9c18-2b85a3266241",
   "metadata": {},
   "outputs": [],
   "source": [
    "def func1(x):\n",
    "    return np.dot(x.T, np.dot(A, x)) + np.dot(b.T, x) + c"
   ]
  },
  {
   "cell_type": "code",
   "execution_count": 11,
   "id": "2fcea277-1aed-4d88-81d7-b84cb4dbcf3f",
   "metadata": {},
   "outputs": [
    {
     "data": {
      "text/plain": [
       "array([0, 1, 2, 3, 4, 5, 6, 7, 8, 9])"
      ]
     },
     "execution_count": 11,
     "metadata": {},
     "output_type": "execute_result"
    }
   ],
   "source": [
    "x0 = np.array(range(10))\n",
    "x0"
   ]
  },
  {
   "cell_type": "code",
   "execution_count": 12,
   "id": "6b621c97-256a-4e2f-ace5-534a06e905d2",
   "metadata": {},
   "outputs": [],
   "source": [
    "from scipy.optimize import approx_fprime"
   ]
  },
  {
   "cell_type": "code",
   "execution_count": 13,
   "id": "a8d80174-5545-4637-8901-e11126b12e1f",
   "metadata": {},
   "outputs": [
    {
     "data": {
      "text/plain": [
       "[388, 512, 289, 373, 469, 474, 343, 223, 295, 374]"
      ]
     },
     "execution_count": 13,
     "metadata": {},
     "output_type": "execute_result"
    }
   ],
   "source": [
    "grad = [int(x) for x in approx_fprime(x0, func1, epsilon=1e-6)]\n",
    "grad"
   ]
  },
  {
   "cell_type": "code",
   "execution_count": 14,
   "id": "9385a2e6-9846-4091-afd9-18ef850bd4c1",
   "metadata": {},
   "outputs": [
    {
     "data": {
      "text/plain": [
       "array([[388, 512, 289, 374, 470, 474, 343, 224, 295, 374]])"
      ]
     },
     "execution_count": 14,
     "metadata": {},
     "output_type": "execute_result"
    }
   ],
   "source": [
    "np.dot(A + A.T,x0) + b.T # а теперь по моей формуле. Всё сходится."
   ]
  },
  {
   "cell_type": "markdown",
   "id": "96c3e00b-f172-4bf7-8ad6-9e0253fe15d2",
   "metadata": {},
   "source": [
    "_________________________\n",
    "2. $f(x) = e^{x^Tx}$\n",
    "\n",
    "Распишем: \n",
    "\n",
    "* $\n",
    "f(x) = e ^{\\sum\\limits_{i=1}^n x_{i}^2}\n",
    "$\n",
    "* Компонента градиента:\n",
    "$$\n",
    "  \\dfrac{\\partial f(x)}{\\partial x_k} = e ^{\\sum\\limits_{i=1}^n x_{i}^2} \\cdot \\left( \\dfrac{\\partial (\\sum\\limits_{i=1}^n x_{i}^2)}{\\partial x_k} \\right) = e ^{\\sum\\limits_{i=1}^n x_{i}^2} \\cdot 2x_k\n",
    "$$\n",
    "  Значит,  $f'(x) = 2 e^{x^Tx} \\cdot x$"
   ]
  },
  {
   "cell_type": "code",
   "execution_count": 15,
   "id": "330092d1-7c21-4b6f-8474-144c31b5d864",
   "metadata": {},
   "outputs": [],
   "source": [
    "def func2(x):\n",
    "    return np.exp(np.dot(x.T, x))"
   ]
  },
  {
   "cell_type": "code",
   "execution_count": 16,
   "id": "4601cadb-c2fc-4994-a85f-8a0d42c2a3a4",
   "metadata": {},
   "outputs": [
    {
     "data": {
      "text/plain": [
       "array([0, 1, 2, 3, 4, 5, 6, 7, 8, 9])"
      ]
     },
     "execution_count": 16,
     "metadata": {},
     "output_type": "execute_result"
    }
   ],
   "source": [
    "x0 = np.array(range(10))\n",
    "x0"
   ]
  },
  {
   "cell_type": "code",
   "execution_count": 17,
   "id": "9439e0d1-c8a9-482d-8232-bf502c2e0b64",
   "metadata": {},
   "outputs": [
    {
     "data": {
      "text/plain": [
       "array([0.00000000e+000, 1.18838548e+124, 2.37677097e+124, 3.56515645e+124,\n",
       "       4.75354193e+124, 5.94192742e+124, 7.13031290e+124, 8.31869838e+124,\n",
       "       9.50708387e+124, 1.06954694e+125])"
      ]
     },
     "execution_count": 17,
     "metadata": {},
     "output_type": "execute_result"
    }
   ],
   "source": [
    "grad = nd.Gradient(func2)(x0) \n",
    "grad"
   ]
  },
  {
   "cell_type": "code",
   "execution_count": 18,
   "id": "f9bc1286-5e1e-4c6e-8175-70b95b4b48f6",
   "metadata": {},
   "outputs": [
    {
     "data": {
      "text/plain": [
       "array([0.00000000e+000, 1.18838548e+124, 2.37677097e+124, 3.56515645e+124,\n",
       "       4.75354193e+124, 5.94192742e+124, 7.13031290e+124, 8.31869838e+124,\n",
       "       9.50708387e+124, 1.06954694e+125])"
      ]
     },
     "execution_count": 18,
     "metadata": {},
     "output_type": "execute_result"
    }
   ],
   "source": [
    "2*np.dot(np.exp(np.dot(x0.T, x0)), x0) # а теперь по моей формуле"
   ]
  },
  {
   "cell_type": "markdown",
   "id": "658e92e3",
   "metadata": {},
   "source": [
    "## <font color = 'green'> 2. Линейная регрессия по произвольному базису. </font>"
   ]
  },
  {
   "cell_type": "markdown",
   "id": "47f56cc8",
   "metadata": {
    "tags": []
   },
   "source": [
    "Пусть задано множество пар признаков(фич) и меток $A = \\{(\\overline{X}_{1},y_{1}),(\\overline{X}_{2},y_{2}),...,(\\overline{X}_{n},y_{n})\\}$. Важно понимать, что теперь каждый элемент множества признаков это вектор состоящий из некоторого числа $k$ признаков  $\\overline{X}_{i} = (x_{1},x_{2},...x_{k})$.\n",
    "\n",
    "Стоит задача получить функцию, позволяющую предсказывать непрерывную метку по $y$ набору признаков $X$. Такую задачу называют множественной регрессией. \n",
    "\n",
    "Для решения данной задачи можно использовать формулу множественной регрессии:$$f(\\overline{x})=\\sum\\limits_{j=1}^m w_{i} \\phi_{i}(\\overline{x}) $$.\n",
    "\n",
    "В приведённой выше формуле, стоит взвешенная сумма некоторых произвольных функций от вектора фич. Это и есть **формула множественной линейной регрессии по произвольному базису**. \n",
    "\n",
    "Частным случаем такой регрессии можно считать тривиальную линейную регрессию, когда $\\phi_{i}(\\overline{x}) = $. Тогда добавив фиктивную функцию $\\phi_{0}(\\overline{x}) = 1$ получим формулу **классической линейной регрессии**.\n",
    "\n",
    "$$f(\\overline{x})=w_{0} + \\sum\\limits_{j=1}^k w_{i} x_{i} $$.\n",
    "\n",
    "Обратите внимание, что формула парной регресии $f(x) = a x +b $ - тоже частный случай вышеприведённой. \n",
    "\n",
    "Также стоит заметить, *что количество базисных функций может быть как меньшим, так и большим, чем количество изначальных фич*."
   ]
  },
  {
   "cell_type": "markdown",
   "id": "dc20a17d",
   "metadata": {},
   "source": [
    "Теперь приступим к **обучению полученной модели** $f(\\overline{x})=\\sum\\limits_{j=1}^m w_{i} \\phi_{i}(\\overline{x}) $. Оно сводится к нахождению весов $w_{1},...,w_{m}$ на основе исходных обучающих данных.\n",
    "\n",
    "Аналогично парной регрессии составим функцию потерь и минимизируем её: $$ \\mathcal{L}(\\overline{w}) =\\sum\\limits_{i=1}^n (y_{i} - \\sum\\limits_{j=1}^m w_{i} \\phi_{i}(\\overline{X_{i}}))^2 \\rightarrow min$$.\n",
    "\n",
    "Конечно проще записать эту формулу в матричном виде (получите её самостоятельно): $$ \\mathcal{L}(\\overline{w}) = (\\overline{y} - Q\\cdot\\overline{w})(\\overline{y} - Q\\cdot\\overline{w})^{T}, $$\n",
    "где $Q$ - *информационная матрица*, которая определяется следующим образом: $$Q=\\begin{bmatrix}\n",
    "    \\phi_{1}(\\overline{x_{1}})       &  \\phi_{2}(\\overline{x_{1}}) & \\phi_{3}(\\overline{x_{1}}) & \\dots & \\phi_{m}(\\overline{x_{1}}) \\\\\n",
    "    \\phi_{1}(\\overline{x_{2}})       &  \\phi_{2}(\\overline{x_{2}}) & \\phi_{3}(\\overline{x_{2}}) & \\dots & \\phi_{m}(\\overline{x_{2}})   \\\\\n",
    "                            ...\\\\\n",
    "   \\phi_{1}(\\overline{x_{n}})       &  \\phi_{2}(\\overline{x_{n}}) & \\phi_{3}(\\overline{x_{n}}) & \\dots & \\phi_{m}(\\overline{x_{n}}) \n",
    "\\end{bmatrix}, $$\n",
    "\n",
    "$\\overline{w}$ - вектор столбец весов: $$ \\overline{w} = \\begin{bmatrix} \n",
    "w_{1}\\\\\n",
    "w_{2}\\\\\n",
    "...\\\\\n",
    "w_{m}\n",
    "\\end{bmatrix},\n",
    "$$\n",
    "\n",
    "$\\overline{y}$ - вектор столбец известных целевых меток: $$ \\overline{y} = \\begin{bmatrix} \n",
    "y_{1}\\\\\n",
    "y_{2}\\\\\n",
    "...\\\\\n",
    "y_{m}\n",
    "\\end{bmatrix}.\n",
    "$$\n",
    "\n",
    "\n",
    "Далее решаем задачу оптимизации. Отыщем производную полученной скалярной вектор-функции и приравняем к 0, опираясь на знания из п. 1.$$\\frac{\\partial \\mathcal{L}}{\\partial w} = \\nabla \\mathcal{L} =\\nabla \\mathcal{L}((\\overline{y} - Q\\cdot\\overline{w})(\\overline{y} - Q\\cdot\\overline{w})^{T}) = \\nabla \\mathcal{L} (\\overline{y}^{T} \\overline{y}-2\\overline{y}^{T} Q\\overline{w}+\\overline{w}^{T} Q^{T} Q\\overline{w} ) = 0$$\n",
    "\n",
    "Далее применяем формулы из п. 1. $$\\nabla \\mathcal{L} (\\overline{y}^{T} \\overline{y}-2\\overline{y}^{T} Q\\overline{w}+\\overline{w}^{T} Q^{T} Q\\overline{w} ) = (-2 Q^{T} \\overline{y}+ 2 Q^{T} Q \\overline{w}) = 0.$$\n",
    "\n",
    "Откуда немедленно получаем итоговую формулу для вектора весов: $$\\overline{w} = (Q^{T} Q)^{-1} Q^{T} \\overline{y}$$.\n",
    "\n",
    "\n",
    "Полученная формула имеет некоторые ограничения (подумайте какие). Также следует продумывать выбор базисных функций. Для получения *информационной матрицы* исходные данные требуют некоторого преобразования в зависимости от выбора базисных функций."
   ]
  },
  {
   "cell_type": "markdown",
   "id": "a70801eb",
   "metadata": {},
   "source": [
    "<font color = 'orange' size = 3>Пример 1 </font>\n",
    "\n",
    "Для начала используем встроенные возможности."
   ]
  },
  {
   "cell_type": "code",
   "execution_count": 19,
   "id": "d0105482",
   "metadata": {},
   "outputs": [],
   "source": [
    "rng = np.random.RandomState(1) # задаём искусственные данные\n",
    "x = 10 * rng.rand(50)\n",
    "y = np.sin(x) + 0.1 * rng.randn(50)"
   ]
  },
  {
   "cell_type": "code",
   "execution_count": 20,
   "id": "3df9cbaa",
   "metadata": {},
   "outputs": [
    {
     "data": {
      "text/plain": [
       "<matplotlib.collections.PathCollection at 0x1aef8293ee0>"
      ]
     },
     "execution_count": 20,
     "metadata": {},
     "output_type": "execute_result"
    },
    {
     "data": {
      "image/png": "[encoded data removed]",
      "text/plain": [
       "<Figure size 432x288 with 1 Axes>"
      ]
     },
     "metadata": {
      "needs_background": "light"
     },
     "output_type": "display_data"
    }
   ],
   "source": [
    "plt.scatter(x, y, c ='red')"
   ]
  },
  {
   "cell_type": "code",
   "execution_count": 135,
   "id": "f8c0aed8",
   "metadata": {
    "scrolled": true
   },
   "outputs": [
    {
     "data": {
      "text/html": [
       "<style>#sk-container-id-1 {color: black;background-color: white;}#sk-container-id-1 pre{padding: 0;}#sk-container-id-1 div.sk-toggleable {background-color: white;}#sk-container-id-1 label.sk-toggleable__label {cursor: pointer;display: block;width: 100%;margin-bottom: 0;padding: 0.3em;box-sizing: border-box;text-align: center;}#sk-container-id-1 label.sk-toggleable__label-arrow:before {content: \"▸\";float: left;margin-right: 0.25em;color: #696969;}#sk-container-id-1 label.sk-toggleable__label-arrow:hover:before {color: black;}#sk-container-id-1 div.sk-estimator:hover label.sk-toggleable__label-arrow:before {color: black;}#sk-container-id-1 div.sk-toggleable__content {max-height: 0;max-width: 0;overflow: hidden;text-align: left;background-color: #f0f8ff;}#sk-container-id-1 div.sk-toggleable__content pre {margin: 0.2em;color: black;border-radius: 0.25em;background-color: #f0f8ff;}#sk-container-id-1 input.sk-toggleable__control:checked~div.sk-toggleable__content {max-height: 200px;max-width: 100%;overflow: auto;}#sk-container-id-1 input.sk-toggleable__control:checked~label.sk-toggleable__label-arrow:before {content: \"▾\";}#sk-container-id-1 div.sk-estimator input.sk-toggleable__control:checked~label.sk-toggleable__label {background-color: #d4ebff;}#sk-container-id-1 div.sk-label input.sk-toggleable__control:checked~label.sk-toggleable__label {background-color: #d4ebff;}#sk-container-id-1 input.sk-hidden--visually {border: 0;clip: rect(1px 1px 1px 1px);clip: rect(1px, 1px, 1px, 1px);height: 1px;margin: -1px;overflow: hidden;padding: 0;position: absolute;width: 1px;}#sk-container-id-1 div.sk-estimator {font-family: monospace;background-color: #f0f8ff;border: 1px dotted black;border-radius: 0.25em;box-sizing: border-box;margin-bottom: 0.5em;}#sk-container-id-1 div.sk-estimator:hover {background-color: #d4ebff;}#sk-container-id-1 div.sk-parallel-item::after {content: \"\";width: 100%;border-bottom: 1px solid gray;flex-grow: 1;}#sk-container-id-1 div.sk-label:hover label.sk-toggleable__label {background-color: #d4ebff;}#sk-container-id-1 div.sk-serial::before {content: \"\";position: absolute;border-left: 1px solid gray;box-sizing: border-box;top: 0;bottom: 0;left: 50%;z-index: 0;}#sk-container-id-1 div.sk-serial {display: flex;flex-direction: column;align-items: center;background-color: white;padding-right: 0.2em;padding-left: 0.2em;position: relative;}#sk-container-id-1 div.sk-item {position: relative;z-index: 1;}#sk-container-id-1 div.sk-parallel {display: flex;align-items: stretch;justify-content: center;background-color: white;position: relative;}#sk-container-id-1 div.sk-item::before, #sk-container-id-1 div.sk-parallel-item::before {content: \"\";position: absolute;border-left: 1px solid gray;box-sizing: border-box;top: 0;bottom: 0;left: 50%;z-index: -1;}#sk-container-id-1 div.sk-parallel-item {display: flex;flex-direction: column;z-index: 1;position: relative;background-color: white;}#sk-container-id-1 div.sk-parallel-item:first-child::after {align-self: flex-end;width: 50%;}#sk-container-id-1 div.sk-parallel-item:last-child::after {align-self: flex-start;width: 50%;}#sk-container-id-1 div.sk-parallel-item:only-child::after {width: 0;}#sk-container-id-1 div.sk-dashed-wrapped {border: 1px dashed gray;margin: 0 0.4em 0.5em 0.4em;box-sizing: border-box;padding-bottom: 0.4em;background-color: white;}#sk-container-id-1 div.sk-label label {font-family: monospace;font-weight: bold;display: inline-block;line-height: 1.2em;}#sk-container-id-1 div.sk-label-container {text-align: center;}#sk-container-id-1 div.sk-container {/* jupyter's `normalize.less` sets `[hidden] { display: none; }` but bootstrap.min.css set `[hidden] { display: none !important; }` so we also need the `!important` here to be able to override the default hidden behavior on the sphinx rendered scikit-learn.org. See: https://github.com/scikit-learn/scikit-learn/issues/21755 */display: inline-block !important;position: relative;}#sk-container-id-1 div.sk-text-repr-fallback {display: none;}</style><div id=\"sk-container-id-1\" class=\"sk-top-container\"><div class=\"sk-text-repr-fallback\"><pre>LinearRegression()</pre><b>In a Jupyter environment, please rerun this cell to show the HTML representation or trust the notebook. <br />On GitHub, the HTML representation is unable to render, please try loading this page with nbviewer.org.</b></div><div class=\"sk-container\" hidden><div class=\"sk-item\"><div class=\"sk-estimator sk-toggleable\"><input class=\"sk-toggleable__control sk-hidden--visually\" id=\"sk-estimator-id-1\" type=\"checkbox\" checked><label for=\"sk-estimator-id-1\" class=\"sk-toggleable__label sk-toggleable__label-arrow\">LinearRegression</label><div class=\"sk-toggleable__content\"><pre>LinearRegression()</pre></div></div></div></div></div>"
      ],
      "text/plain": [
       "LinearRegression()"
      ]
     },
     "execution_count": 135,
     "metadata": {},
     "output_type": "execute_result"
    }
   ],
   "source": [
    "from sklearn.linear_model import LinearRegression #пробуем обучить стандартную модель регрессии из ЛР1 \n",
    "model = LinearRegression(fit_intercept=True)\n",
    "model"
   ]
  },
  {
   "cell_type": "code",
   "execution_count": 136,
   "id": "26e52f69",
   "metadata": {},
   "outputs": [
    {
     "data": {
      "text/plain": [
       "((50, 1), (50,))"
      ]
     },
     "execution_count": 136,
     "metadata": {},
     "output_type": "execute_result"
    }
   ],
   "source": [
    "X = x[:, np.newaxis]\n",
    "(X.shape,x.shape)"
   ]
  },
  {
   "cell_type": "code",
   "execution_count": 137,
   "id": "acd1f0e3",
   "metadata": {},
   "outputs": [
    {
     "data": {
      "text/html": [
       "<style>#sk-container-id-2 {color: black;background-color: white;}#sk-container-id-2 pre{padding: 0;}#sk-container-id-2 div.sk-toggleable {background-color: white;}#sk-container-id-2 label.sk-toggleable__label {cursor: pointer;display: block;width: 100%;margin-bottom: 0;padding: 0.3em;box-sizing: border-box;text-align: center;}#sk-container-id-2 label.sk-toggleable__label-arrow:before {content: \"▸\";float: left;margin-right: 0.25em;color: #696969;}#sk-container-id-2 label.sk-toggleable__label-arrow:hover:before {color: black;}#sk-container-id-2 div.sk-estimator:hover label.sk-toggleable__label-arrow:before {color: black;}#sk-container-id-2 div.sk-toggleable__content {max-height: 0;max-width: 0;overflow: hidden;text-align: left;background-color: #f0f8ff;}#sk-container-id-2 div.sk-toggleable__content pre {margin: 0.2em;color: black;border-radius: 0.25em;background-color: #f0f8ff;}#sk-container-id-2 input.sk-toggleable__control:checked~div.sk-toggleable__content {max-height: 200px;max-width: 100%;overflow: auto;}#sk-container-id-2 input.sk-toggleable__control:checked~label.sk-toggleable__label-arrow:before {content: \"▾\";}#sk-container-id-2 div.sk-estimator input.sk-toggleable__control:checked~label.sk-toggleable__label {background-color: #d4ebff;}#sk-container-id-2 div.sk-label input.sk-toggleable__control:checked~label.sk-toggleable__label {background-color: #d4ebff;}#sk-container-id-2 input.sk-hidden--visually {border: 0;clip: rect(1px 1px 1px 1px);clip: rect(1px, 1px, 1px, 1px);height: 1px;margin: -1px;overflow: hidden;padding: 0;position: absolute;width: 1px;}#sk-container-id-2 div.sk-estimator {font-family: monospace;background-color: #f0f8ff;border: 1px dotted black;border-radius: 0.25em;box-sizing: border-box;margin-bottom: 0.5em;}#sk-container-id-2 div.sk-estimator:hover {background-color: #d4ebff;}#sk-container-id-2 div.sk-parallel-item::after {content: \"\";width: 100%;border-bottom: 1px solid gray;flex-grow: 1;}#sk-container-id-2 div.sk-label:hover label.sk-toggleable__label {background-color: #d4ebff;}#sk-container-id-2 div.sk-serial::before {content: \"\";position: absolute;border-left: 1px solid gray;box-sizing: border-box;top: 0;bottom: 0;left: 50%;z-index: 0;}#sk-container-id-2 div.sk-serial {display: flex;flex-direction: column;align-items: center;background-color: white;padding-right: 0.2em;padding-left: 0.2em;position: relative;}#sk-container-id-2 div.sk-item {position: relative;z-index: 1;}#sk-container-id-2 div.sk-parallel {display: flex;align-items: stretch;justify-content: center;background-color: white;position: relative;}#sk-container-id-2 div.sk-item::before, #sk-container-id-2 div.sk-parallel-item::before {content: \"\";position: absolute;border-left: 1px solid gray;box-sizing: border-box;top: 0;bottom: 0;left: 50%;z-index: -1;}#sk-container-id-2 div.sk-parallel-item {display: flex;flex-direction: column;z-index: 1;position: relative;background-color: white;}#sk-container-id-2 div.sk-parallel-item:first-child::after {align-self: flex-end;width: 50%;}#sk-container-id-2 div.sk-parallel-item:last-child::after {align-self: flex-start;width: 50%;}#sk-container-id-2 div.sk-parallel-item:only-child::after {width: 0;}#sk-container-id-2 div.sk-dashed-wrapped {border: 1px dashed gray;margin: 0 0.4em 0.5em 0.4em;box-sizing: border-box;padding-bottom: 0.4em;background-color: white;}#sk-container-id-2 div.sk-label label {font-family: monospace;font-weight: bold;display: inline-block;line-height: 1.2em;}#sk-container-id-2 div.sk-label-container {text-align: center;}#sk-container-id-2 div.sk-container {/* jupyter's `normalize.less` sets `[hidden] { display: none; }` but bootstrap.min.css set `[hidden] { display: none !important; }` so we also need the `!important` here to be able to override the default hidden behavior on the sphinx rendered scikit-learn.org. See: https://github.com/scikit-learn/scikit-learn/issues/21755 */display: inline-block !important;position: relative;}#sk-container-id-2 div.sk-text-repr-fallback {display: none;}</style><div id=\"sk-container-id-2\" class=\"sk-top-container\"><div class=\"sk-text-repr-fallback\"><pre>LinearRegression()</pre><b>In a Jupyter environment, please rerun this cell to show the HTML representation or trust the notebook. <br />On GitHub, the HTML representation is unable to render, please try loading this page with nbviewer.org.</b></div><div class=\"sk-container\" hidden><div class=\"sk-item\"><div class=\"sk-estimator sk-toggleable\"><input class=\"sk-toggleable__control sk-hidden--visually\" id=\"sk-estimator-id-2\" type=\"checkbox\" checked><label for=\"sk-estimator-id-2\" class=\"sk-toggleable__label sk-toggleable__label-arrow\">LinearRegression</label><div class=\"sk-toggleable__content\"><pre>LinearRegression()</pre></div></div></div></div></div>"
      ],
      "text/plain": [
       "LinearRegression()"
      ]
     },
     "execution_count": 137,
     "metadata": {},
     "output_type": "execute_result"
    }
   ],
   "source": [
    "model.fit(X, y)"
   ]
  },
  {
   "cell_type": "code",
   "execution_count": 138,
   "id": "9167e876",
   "metadata": {
    "scrolled": true
   },
   "outputs": [
    {
     "data": {
      "text/plain": [
       "[<matplotlib.lines.Line2D at 0x25fc878eb20>]"
      ]
     },
     "execution_count": 138,
     "metadata": {},
     "output_type": "execute_result"
    },
    {
     "data": {
      "image/png": "[encoded data removed]",
      "text/plain": [
       "<Figure size 432x288 with 1 Axes>"
      ]
     },
     "metadata": {
      "needs_background": "light"
     },
     "output_type": "display_data"
    }
   ],
   "source": [
    "testx = np.linspace(np.min(x),np.max(x),50)[:, np.newaxis]# по рисунку видим, что получили хрень\n",
    "plt.scatter(x, y, c ='red')\n",
    "plt.plot(testx,model.predict(testx))"
   ]
  },
  {
   "cell_type": "code",
   "execution_count": 139,
   "id": "9b41b7ca",
   "metadata": {
    "scrolled": true
   },
   "outputs": [
    {
     "data": {
      "text/plain": [
       "0.003269744706462907"
      ]
     },
     "execution_count": 139,
     "metadata": {},
     "output_type": "execute_result"
    }
   ],
   "source": [
    "model.score(X,y)# позорище, а не модель"
   ]
  },
  {
   "cell_type": "markdown",
   "id": "b2f87c50",
   "metadata": {},
   "source": [
    "А теперь добавим другой базис. Видно, что функция похожа на степенную. Используем полиномиальный базис.\n",
    "Класс [PolynomialFeatures](https://scikit-learn.org/stable/modules/generated/sklearn.preprocessing.PolynomialFeatures.html) позволяет преобразовать ваши данные  и перейти от стандартного базиса ${x_1,x_2,...x_n}$ полиномиальному базису, который состоит из всех возможных функций $x_1^{k1}x_2^{k2}...x_n^{kn} : k1+k2+...kn<=4$"
   ]
  },
  {
   "cell_type": "code",
   "execution_count": 140,
   "id": "054248ce",
   "metadata": {},
   "outputs": [],
   "source": [
    "from sklearn.preprocessing import PolynomialFeatures\n",
    "poly_reg=PolynomialFeatures(degree=4)"
   ]
  },
  {
   "cell_type": "code",
   "execution_count": 141,
   "id": "950805ea",
   "metadata": {},
   "outputs": [],
   "source": [
    "X_new = poly_reg.fit_transform(X)"
   ]
  },
  {
   "cell_type": "code",
   "execution_count": 142,
   "id": "50a68b4d",
   "metadata": {},
   "outputs": [],
   "source": [
    "X_new; #вместо одного x теперь целый вектор фич степени от 0 до 4"
   ]
  },
  {
   "cell_type": "code",
   "execution_count": 143,
   "id": "c4ae67ca",
   "metadata": {},
   "outputs": [
    {
     "data": {
      "text/html": [
       "<style>#sk-container-id-3 {color: black;background-color: white;}#sk-container-id-3 pre{padding: 0;}#sk-container-id-3 div.sk-toggleable {background-color: white;}#sk-container-id-3 label.sk-toggleable__label {cursor: pointer;display: block;width: 100%;margin-bottom: 0;padding: 0.3em;box-sizing: border-box;text-align: center;}#sk-container-id-3 label.sk-toggleable__label-arrow:before {content: \"▸\";float: left;margin-right: 0.25em;color: #696969;}#sk-container-id-3 label.sk-toggleable__label-arrow:hover:before {color: black;}#sk-container-id-3 div.sk-estimator:hover label.sk-toggleable__label-arrow:before {color: black;}#sk-container-id-3 div.sk-toggleable__content {max-height: 0;max-width: 0;overflow: hidden;text-align: left;background-color: #f0f8ff;}#sk-container-id-3 div.sk-toggleable__content pre {margin: 0.2em;color: black;border-radius: 0.25em;background-color: #f0f8ff;}#sk-container-id-3 input.sk-toggleable__control:checked~div.sk-toggleable__content {max-height: 200px;max-width: 100%;overflow: auto;}#sk-container-id-3 input.sk-toggleable__control:checked~label.sk-toggleable__label-arrow:before {content: \"▾\";}#sk-container-id-3 div.sk-estimator input.sk-toggleable__control:checked~label.sk-toggleable__label {background-color: #d4ebff;}#sk-container-id-3 div.sk-label input.sk-toggleable__control:checked~label.sk-toggleable__label {background-color: #d4ebff;}#sk-container-id-3 input.sk-hidden--visually {border: 0;clip: rect(1px 1px 1px 1px);clip: rect(1px, 1px, 1px, 1px);height: 1px;margin: -1px;overflow: hidden;padding: 0;position: absolute;width: 1px;}#sk-container-id-3 div.sk-estimator {font-family: monospace;background-color: #f0f8ff;border: 1px dotted black;border-radius: 0.25em;box-sizing: border-box;margin-bottom: 0.5em;}#sk-container-id-3 div.sk-estimator:hover {background-color: #d4ebff;}#sk-container-id-3 div.sk-parallel-item::after {content: \"\";width: 100%;border-bottom: 1px solid gray;flex-grow: 1;}#sk-container-id-3 div.sk-label:hover label.sk-toggleable__label {background-color: #d4ebff;}#sk-container-id-3 div.sk-serial::before {content: \"\";position: absolute;border-left: 1px solid gray;box-sizing: border-box;top: 0;bottom: 0;left: 50%;z-index: 0;}#sk-container-id-3 div.sk-serial {display: flex;flex-direction: column;align-items: center;background-color: white;padding-right: 0.2em;padding-left: 0.2em;position: relative;}#sk-container-id-3 div.sk-item {position: relative;z-index: 1;}#sk-container-id-3 div.sk-parallel {display: flex;align-items: stretch;justify-content: center;background-color: white;position: relative;}#sk-container-id-3 div.sk-item::before, #sk-container-id-3 div.sk-parallel-item::before {content: \"\";position: absolute;border-left: 1px solid gray;box-sizing: border-box;top: 0;bottom: 0;left: 50%;z-index: -1;}#sk-container-id-3 div.sk-parallel-item {display: flex;flex-direction: column;z-index: 1;position: relative;background-color: white;}#sk-container-id-3 div.sk-parallel-item:first-child::after {align-self: flex-end;width: 50%;}#sk-container-id-3 div.sk-parallel-item:last-child::after {align-self: flex-start;width: 50%;}#sk-container-id-3 div.sk-parallel-item:only-child::after {width: 0;}#sk-container-id-3 div.sk-dashed-wrapped {border: 1px dashed gray;margin: 0 0.4em 0.5em 0.4em;box-sizing: border-box;padding-bottom: 0.4em;background-color: white;}#sk-container-id-3 div.sk-label label {font-family: monospace;font-weight: bold;display: inline-block;line-height: 1.2em;}#sk-container-id-3 div.sk-label-container {text-align: center;}#sk-container-id-3 div.sk-container {/* jupyter's `normalize.less` sets `[hidden] { display: none; }` but bootstrap.min.css set `[hidden] { display: none !important; }` so we also need the `!important` here to be able to override the default hidden behavior on the sphinx rendered scikit-learn.org. See: https://github.com/scikit-learn/scikit-learn/issues/21755 */display: inline-block !important;position: relative;}#sk-container-id-3 div.sk-text-repr-fallback {display: none;}</style><div id=\"sk-container-id-3\" class=\"sk-top-container\"><div class=\"sk-text-repr-fallback\"><pre>LinearRegression()</pre><b>In a Jupyter environment, please rerun this cell to show the HTML representation or trust the notebook. <br />On GitHub, the HTML representation is unable to render, please try loading this page with nbviewer.org.</b></div><div class=\"sk-container\" hidden><div class=\"sk-item\"><div class=\"sk-estimator sk-toggleable\"><input class=\"sk-toggleable__control sk-hidden--visually\" id=\"sk-estimator-id-3\" type=\"checkbox\" checked><label for=\"sk-estimator-id-3\" class=\"sk-toggleable__label sk-toggleable__label-arrow\">LinearRegression</label><div class=\"sk-toggleable__content\"><pre>LinearRegression()</pre></div></div></div></div></div>"
      ],
      "text/plain": [
       "LinearRegression()"
      ]
     },
     "execution_count": 143,
     "metadata": {},
     "output_type": "execute_result"
    }
   ],
   "source": [
    "model = LinearRegression(fit_intercept=True)\n",
    "model"
   ]
  },
  {
   "cell_type": "code",
   "execution_count": 144,
   "id": "17a7ae6e",
   "metadata": {},
   "outputs": [
    {
     "data": {
      "text/html": [
       "<style>#sk-container-id-4 {color: black;background-color: white;}#sk-container-id-4 pre{padding: 0;}#sk-container-id-4 div.sk-toggleable {background-color: white;}#sk-container-id-4 label.sk-toggleable__label {cursor: pointer;display: block;width: 100%;margin-bottom: 0;padding: 0.3em;box-sizing: border-box;text-align: center;}#sk-container-id-4 label.sk-toggleable__label-arrow:before {content: \"▸\";float: left;margin-right: 0.25em;color: #696969;}#sk-container-id-4 label.sk-toggleable__label-arrow:hover:before {color: black;}#sk-container-id-4 div.sk-estimator:hover label.sk-toggleable__label-arrow:before {color: black;}#sk-container-id-4 div.sk-toggleable__content {max-height: 0;max-width: 0;overflow: hidden;text-align: left;background-color: #f0f8ff;}#sk-container-id-4 div.sk-toggleable__content pre {margin: 0.2em;color: black;border-radius: 0.25em;background-color: #f0f8ff;}#sk-container-id-4 input.sk-toggleable__control:checked~div.sk-toggleable__content {max-height: 200px;max-width: 100%;overflow: auto;}#sk-container-id-4 input.sk-toggleable__control:checked~label.sk-toggleable__label-arrow:before {content: \"▾\";}#sk-container-id-4 div.sk-estimator input.sk-toggleable__control:checked~label.sk-toggleable__label {background-color: #d4ebff;}#sk-container-id-4 div.sk-label input.sk-toggleable__control:checked~label.sk-toggleable__label {background-color: #d4ebff;}#sk-container-id-4 input.sk-hidden--visually {border: 0;clip: rect(1px 1px 1px 1px);clip: rect(1px, 1px, 1px, 1px);height: 1px;margin: -1px;overflow: hidden;padding: 0;position: absolute;width: 1px;}#sk-container-id-4 div.sk-estimator {font-family: monospace;background-color: #f0f8ff;border: 1px dotted black;border-radius: 0.25em;box-sizing: border-box;margin-bottom: 0.5em;}#sk-container-id-4 div.sk-estimator:hover {background-color: #d4ebff;}#sk-container-id-4 div.sk-parallel-item::after {content: \"\";width: 100%;border-bottom: 1px solid gray;flex-grow: 1;}#sk-container-id-4 div.sk-label:hover label.sk-toggleable__label {background-color: #d4ebff;}#sk-container-id-4 div.sk-serial::before {content: \"\";position: absolute;border-left: 1px solid gray;box-sizing: border-box;top: 0;bottom: 0;left: 50%;z-index: 0;}#sk-container-id-4 div.sk-serial {display: flex;flex-direction: column;align-items: center;background-color: white;padding-right: 0.2em;padding-left: 0.2em;position: relative;}#sk-container-id-4 div.sk-item {position: relative;z-index: 1;}#sk-container-id-4 div.sk-parallel {display: flex;align-items: stretch;justify-content: center;background-color: white;position: relative;}#sk-container-id-4 div.sk-item::before, #sk-container-id-4 div.sk-parallel-item::before {content: \"\";position: absolute;border-left: 1px solid gray;box-sizing: border-box;top: 0;bottom: 0;left: 50%;z-index: -1;}#sk-container-id-4 div.sk-parallel-item {display: flex;flex-direction: column;z-index: 1;position: relative;background-color: white;}#sk-container-id-4 div.sk-parallel-item:first-child::after {align-self: flex-end;width: 50%;}#sk-container-id-4 div.sk-parallel-item:last-child::after {align-self: flex-start;width: 50%;}#sk-container-id-4 div.sk-parallel-item:only-child::after {width: 0;}#sk-container-id-4 div.sk-dashed-wrapped {border: 1px dashed gray;margin: 0 0.4em 0.5em 0.4em;box-sizing: border-box;padding-bottom: 0.4em;background-color: white;}#sk-container-id-4 div.sk-label label {font-family: monospace;font-weight: bold;display: inline-block;line-height: 1.2em;}#sk-container-id-4 div.sk-label-container {text-align: center;}#sk-container-id-4 div.sk-container {/* jupyter's `normalize.less` sets `[hidden] { display: none; }` but bootstrap.min.css set `[hidden] { display: none !important; }` so we also need the `!important` here to be able to override the default hidden behavior on the sphinx rendered scikit-learn.org. See: https://github.com/scikit-learn/scikit-learn/issues/21755 */display: inline-block !important;position: relative;}#sk-container-id-4 div.sk-text-repr-fallback {display: none;}</style><div id=\"sk-container-id-4\" class=\"sk-top-container\"><div class=\"sk-text-repr-fallback\"><pre>LinearRegression()</pre><b>In a Jupyter environment, please rerun this cell to show the HTML representation or trust the notebook. <br />On GitHub, the HTML representation is unable to render, please try loading this page with nbviewer.org.</b></div><div class=\"sk-container\" hidden><div class=\"sk-item\"><div class=\"sk-estimator sk-toggleable\"><input class=\"sk-toggleable__control sk-hidden--visually\" id=\"sk-estimator-id-4\" type=\"checkbox\" checked><label for=\"sk-estimator-id-4\" class=\"sk-toggleable__label sk-toggleable__label-arrow\">LinearRegression</label><div class=\"sk-toggleable__content\"><pre>LinearRegression()</pre></div></div></div></div></div>"
      ],
      "text/plain": [
       "LinearRegression()"
      ]
     },
     "execution_count": 144,
     "metadata": {},
     "output_type": "execute_result"
    }
   ],
   "source": [
    "model.fit(X_new, y)"
   ]
  },
  {
   "cell_type": "code",
   "execution_count": 145,
   "id": "d2eb2907",
   "metadata": {},
   "outputs": [
    {
     "data": {
      "text/plain": [
       "[<matplotlib.lines.Line2D at 0x25fc880b940>]"
      ]
     },
     "execution_count": 145,
     "metadata": {},
     "output_type": "execute_result"
    },
    {
     "data": {
      "image/png": "[encoded data removed]",
      "text/plain": [
       "<Figure size 432x288 with 1 Axes>"
      ]
     },
     "metadata": {
      "needs_background": "light"
     },
     "output_type": "display_data"
    }
   ],
   "source": [
    "testx = np.linspace(np.min(x),np.max(x),50)[:, np.newaxis]\n",
    "plt.scatter(x, y, c ='red')\n",
    "plt.plot(testx,model.predict(poly_reg.fit_transform(testx)))\n",
    "# теперь для предсказания модели нужно передавать преобразованные в тот же базис данные\n",
    "# результат лучше"
   ]
  },
  {
   "cell_type": "code",
   "execution_count": 146,
   "id": "ee60a43d",
   "metadata": {},
   "outputs": [
    {
     "data": {
      "text/plain": [
       "0.8709660328448418"
      ]
     },
     "execution_count": 146,
     "metadata": {},
     "output_type": "execute_result"
    }
   ],
   "source": [
    "model.score(X_new,y)# уже лучше!"
   ]
  },
  {
   "cell_type": "code",
   "execution_count": 147,
   "id": "d90c2ad4",
   "metadata": {
    "scrolled": true
   },
   "outputs": [
    {
     "data": {
      "text/plain": [
       "(array([ 0.        ,  2.16741907, -1.22565575,  0.20937262, -0.01096061]),\n",
       " -0.19599947059724465)"
      ]
     },
     "execution_count": 147,
     "metadata": {},
     "output_type": "execute_result"
    }
   ],
   "source": [
    "(model.coef_,model.intercept_) # а вот и полученные веса для базисных функций. "
   ]
  },
  {
   "cell_type": "markdown",
   "id": "b22c153a",
   "metadata": {},
   "source": [
    "**Упражнение** Подумайте, за что отвечает параметр fit_intercept и почему первый коэффициент равен 0"
   ]
  },
  {
   "cell_type": "markdown",
   "id": "6cba52f2-0400-458a-9443-578b2e41153b",
   "metadata": {},
   "source": [
    "Параметр `fit_intercept` определяет, будет ли оцениваться свободный член модели. В случае, если `fit_intercept=True`, модель будет включать вектор-константу в регрессионное уравнение. В противном случае, если `fit_intercept=False`, свободный член не будет оцениваться, и модель будет проходить через начало координат."
   ]
  },
  {
   "cell_type": "markdown",
   "id": "98b78384",
   "metadata": {},
   "source": [
    "<font color = 'orange' size = 3>Пример 2 </font>\n",
    "\n",
    "Теперь возьмём многомерные фичи. Используем рыбный датасет из файла Fish.csv и попробуем создать модель регрессии для предсказания веса (столбец weight).\n",
    "\n",
    "Попробуем использовать стандартную формулу для классической регрессии $f(\\overline{x})=w_{0} + \\sum\\limits_{j=1}^k w_{i} x_{i} $.\n"
   ]
  },
  {
   "cell_type": "code",
   "execution_count": 149,
   "id": "0d42f3cd",
   "metadata": {},
   "outputs": [
    {
     "data": {
      "text/html": [
       "<div>\n",
       "<style scoped>\n",
       "    .dataframe tbody tr th:only-of-type {\n",
       "        vertical-align: middle;\n",
       "    }\n",
       "\n",
       "    .dataframe tbody tr th {\n",
       "        vertical-align: top;\n",
       "    }\n",
       "\n",
       "    .dataframe thead th {\n",
       "        text-align: right;\n",
       "    }\n",
       "</style>\n",
       "<table border=\"1\" class=\"dataframe\">\n",
       "  <thead>\n",
       "    <tr style=\"text-align: right;\">\n",
       "      <th></th>\n",
       "      <th>Species</th>\n",
       "      <th>Weight</th>\n",
       "      <th>Length1</th>\n",
       "      <th>Length2</th>\n",
       "      <th>Length3</th>\n",
       "      <th>Height</th>\n",
       "      <th>Width</th>\n",
       "    </tr>\n",
       "  </thead>\n",
       "  <tbody>\n",
       "    <tr>\n",
       "      <th>0</th>\n",
       "      <td>Bream</td>\n",
       "      <td>242.0</td>\n",
       "      <td>23.2</td>\n",
       "      <td>25.4</td>\n",
       "      <td>30.0</td>\n",
       "      <td>11.5200</td>\n",
       "      <td>4.0200</td>\n",
       "    </tr>\n",
       "    <tr>\n",
       "      <th>1</th>\n",
       "      <td>Bream</td>\n",
       "      <td>290.0</td>\n",
       "      <td>24.0</td>\n",
       "      <td>26.3</td>\n",
       "      <td>31.2</td>\n",
       "      <td>12.4800</td>\n",
       "      <td>4.3056</td>\n",
       "    </tr>\n",
       "    <tr>\n",
       "      <th>2</th>\n",
       "      <td>Bream</td>\n",
       "      <td>340.0</td>\n",
       "      <td>23.9</td>\n",
       "      <td>26.5</td>\n",
       "      <td>31.1</td>\n",
       "      <td>12.3778</td>\n",
       "      <td>4.6961</td>\n",
       "    </tr>\n",
       "    <tr>\n",
       "      <th>3</th>\n",
       "      <td>Bream</td>\n",
       "      <td>363.0</td>\n",
       "      <td>26.3</td>\n",
       "      <td>29.0</td>\n",
       "      <td>33.5</td>\n",
       "      <td>12.7300</td>\n",
       "      <td>4.4555</td>\n",
       "    </tr>\n",
       "    <tr>\n",
       "      <th>4</th>\n",
       "      <td>Bream</td>\n",
       "      <td>430.0</td>\n",
       "      <td>26.5</td>\n",
       "      <td>29.0</td>\n",
       "      <td>34.0</td>\n",
       "      <td>12.4440</td>\n",
       "      <td>5.1340</td>\n",
       "    </tr>\n",
       "  </tbody>\n",
       "</table>\n",
       "</div>"
      ],
      "text/plain": [
       "  Species  Weight  Length1  Length2  Length3   Height   Width\n",
       "0   Bream   242.0     23.2     25.4     30.0  11.5200  4.0200\n",
       "1   Bream   290.0     24.0     26.3     31.2  12.4800  4.3056\n",
       "2   Bream   340.0     23.9     26.5     31.1  12.3778  4.6961\n",
       "3   Bream   363.0     26.3     29.0     33.5  12.7300  4.4555\n",
       "4   Bream   430.0     26.5     29.0     34.0  12.4440  5.1340"
      ]
     },
     "execution_count": 149,
     "metadata": {},
     "output_type": "execute_result"
    }
   ],
   "source": [
    "dataframe=pd.read_csv(\"Fish.csv\") # загружаем данные\n",
    "dataframe.head()"
   ]
  },
  {
   "cell_type": "code",
   "execution_count": 150,
   "id": "d69d5e72",
   "metadata": {},
   "outputs": [],
   "source": [
    "X = dataframe.drop([\"Species\",\"Weight\"],axis=1).values # выбираем то, что будет фичами"
   ]
  },
  {
   "cell_type": "code",
   "execution_count": 151,
   "id": "a8830a2f",
   "metadata": {},
   "outputs": [
    {
     "data": {
      "text/plain": [
       "array([[23.2   , 25.4   , 30.    , 11.52  ,  4.02  ],\n",
       "       [24.    , 26.3   , 31.2   , 12.48  ,  4.3056],\n",
       "       [23.9   , 26.5   , 31.1   , 12.3778,  4.6961],\n",
       "       [26.3   , 29.    , 33.5   , 12.73  ,  4.4555],\n",
       "       [26.5   , 29.    , 34.    , 12.444 ,  5.134 ],\n",
       "       [26.8   , 29.7   , 34.7   , 13.6024,  4.9274],\n",
       "       [26.8   , 29.7   , 34.5   , 14.1795,  5.2785],\n",
       "       [27.6   , 30.    , 35.    , 12.67  ,  4.69  ],\n",
       "       [27.6   , 30.    , 35.1   , 14.0049,  4.8438],\n",
       "       [28.5   , 30.7   , 36.2   , 14.2266,  4.9594],\n",
       "       [28.4   , 31.    , 36.2   , 14.2628,  5.1042],\n",
       "       [28.7   , 31.    , 36.2   , 14.3714,  4.8146],\n",
       "       [29.1   , 31.5   , 36.4   , 13.7592,  4.368 ],\n",
       "       [29.5   , 32.    , 37.3   , 13.9129,  5.0728],\n",
       "       [29.4   , 32.    , 37.2   , 14.9544,  5.1708],\n",
       "       [29.4   , 32.    , 37.2   , 15.438 ,  5.58  ],\n",
       "       [30.4   , 33.    , 38.3   , 14.8604,  5.2854],\n",
       "       [30.4   , 33.    , 38.5   , 14.938 ,  5.1975],\n",
       "       [30.9   , 33.5   , 38.6   , 15.633 ,  5.1338],\n",
       "       [31.    , 33.5   , 38.7   , 14.4738,  5.7276],\n",
       "       [31.3   , 34.    , 39.5   , 15.1285,  5.5695],\n",
       "       [31.4   , 34.    , 39.2   , 15.9936,  5.3704],\n",
       "       [31.5   , 34.5   , 39.7   , 15.5227,  5.2801],\n",
       "       [31.8   , 35.    , 40.6   , 15.4686,  6.1306],\n",
       "       [31.9   , 35.    , 40.5   , 16.2405,  5.589 ],\n",
       "       [31.8   , 35.    , 40.9   , 16.36  ,  6.0532],\n",
       "       [32.    , 35.    , 40.6   , 16.3618,  6.09  ],\n",
       "       [32.7   , 36.    , 41.5   , 16.517 ,  5.8515],\n",
       "       [32.8   , 36.    , 41.6   , 16.8896,  6.1984],\n",
       "       [33.5   , 37.    , 42.6   , 18.957 ,  6.603 ],\n",
       "       [35.    , 38.5   , 44.1   , 18.0369,  6.3063],\n",
       "       [35.    , 38.5   , 44.    , 18.084 ,  6.292 ],\n",
       "       [36.2   , 39.5   , 45.3   , 18.7542,  6.7497],\n",
       "       [37.4   , 41.    , 45.9   , 18.6354,  6.7473],\n",
       "       [38.    , 41.    , 46.5   , 17.6235,  6.3705],\n",
       "       [12.9   , 14.1   , 16.2   ,  4.1472,  2.268 ],\n",
       "       [16.5   , 18.2   , 20.3   ,  5.2983,  2.8217],\n",
       "       [17.5   , 18.8   , 21.2   ,  5.5756,  2.9044],\n",
       "       [18.2   , 19.8   , 22.2   ,  5.6166,  3.1746],\n",
       "       [18.6   , 20.    , 22.2   ,  6.216 ,  3.5742],\n",
       "       [19.    , 20.5   , 22.8   ,  6.4752,  3.3516],\n",
       "       [19.1   , 20.8   , 23.1   ,  6.1677,  3.3957],\n",
       "       [19.4   , 21.    , 23.7   ,  6.1146,  3.2943],\n",
       "       [20.4   , 22.    , 24.7   ,  5.8045,  3.7544],\n",
       "       [20.5   , 22.    , 24.3   ,  6.6339,  3.5478],\n",
       "       [20.5   , 22.5   , 25.3   ,  7.0334,  3.8203],\n",
       "       [21.    , 22.5   , 25.    ,  6.55  ,  3.325 ],\n",
       "       [21.1   , 22.5   , 25.    ,  6.4   ,  3.8   ],\n",
       "       [22.    , 24.    , 27.2   ,  7.5344,  3.8352],\n",
       "       [22.    , 23.4   , 26.7   ,  6.9153,  3.6312],\n",
       "       [22.1   , 23.5   , 26.8   ,  7.3968,  4.1272],\n",
       "       [23.6   , 25.2   , 27.9   ,  7.0866,  3.906 ],\n",
       "       [24.    , 26.    , 29.2   ,  8.8768,  4.4968],\n",
       "       [25.    , 27.    , 30.6   ,  8.568 ,  4.7736],\n",
       "       [29.5   , 31.7   , 35.    ,  9.485 ,  5.355 ],\n",
       "       [23.6   , 26.    , 28.7   ,  8.3804,  4.2476],\n",
       "       [24.1   , 26.5   , 29.3   ,  8.1454,  4.2485],\n",
       "       [25.6   , 28.    , 30.8   ,  8.778 ,  4.6816],\n",
       "       [28.5   , 31.    , 34.    , 10.744 ,  6.562 ],\n",
       "       [33.7   , 36.4   , 39.6   , 11.7612,  6.5736],\n",
       "       [37.3   , 40.    , 43.5   , 12.354 ,  6.525 ],\n",
       "       [13.5   , 14.7   , 16.5   ,  6.8475,  2.3265],\n",
       "       [14.3   , 15.5   , 17.4   ,  6.5772,  2.3142],\n",
       "       [16.3   , 17.7   , 19.8   ,  7.4052,  2.673 ],\n",
       "       [17.5   , 19.    , 21.3   ,  8.3922,  2.9181],\n",
       "       [18.4   , 20.    , 22.4   ,  8.8928,  3.2928],\n",
       "       [19.    , 20.7   , 23.2   ,  8.5376,  3.2944],\n",
       "       [19.    , 20.7   , 23.2   ,  9.396 ,  3.4104],\n",
       "       [19.8   , 21.5   , 24.1   ,  9.7364,  3.1571],\n",
       "       [21.2   , 23.    , 25.8   , 10.3458,  3.6636],\n",
       "       [23.    , 25.    , 28.    , 11.088 ,  4.144 ],\n",
       "       [24.    , 26.    , 29.    , 11.368 ,  4.234 ],\n",
       "       [ 7.5   ,  8.4   ,  8.8   ,  2.112 ,  1.408 ],\n",
       "       [12.5   , 13.7   , 14.7   ,  3.528 ,  1.9992],\n",
       "       [13.8   , 15.    , 16.    ,  3.824 ,  2.432 ],\n",
       "       [15.    , 16.2   , 17.2   ,  4.5924,  2.6316],\n",
       "       [15.7   , 17.4   , 18.5   ,  4.588 ,  2.9415],\n",
       "       [16.2   , 18.    , 19.2   ,  5.2224,  3.3216],\n",
       "       [16.8   , 18.7   , 19.4   ,  5.1992,  3.1234],\n",
       "       [17.2   , 19.    , 20.2   ,  5.6358,  3.0502],\n",
       "       [17.8   , 19.6   , 20.8   ,  5.1376,  3.0368],\n",
       "       [18.2   , 20.    , 21.    ,  5.082 ,  2.772 ],\n",
       "       [19.    , 21.    , 22.5   ,  5.6925,  3.555 ],\n",
       "       [19.    , 21.    , 22.5   ,  5.9175,  3.3075],\n",
       "       [19.    , 21.    , 22.5   ,  5.6925,  3.6675],\n",
       "       [19.3   , 21.3   , 22.8   ,  6.384 ,  3.534 ],\n",
       "       [20.    , 22.    , 23.5   ,  6.11  ,  3.4075],\n",
       "       [20.    , 22.    , 23.5   ,  5.64  ,  3.525 ],\n",
       "       [20.    , 22.    , 23.5   ,  6.11  ,  3.525 ],\n",
       "       [20.    , 22.    , 23.5   ,  5.875 ,  3.525 ],\n",
       "       [20.    , 22.    , 23.5   ,  5.5225,  3.995 ],\n",
       "       [20.5   , 22.5   , 24.    ,  5.856 ,  3.624 ],\n",
       "       [20.5   , 22.5   , 24.    ,  6.792 ,  3.624 ],\n",
       "       [20.7   , 22.7   , 24.2   ,  5.9532,  3.63  ],\n",
       "       [21.    , 23.    , 24.5   ,  5.2185,  3.626 ],\n",
       "       [21.5   , 23.5   , 25.    ,  6.275 ,  3.725 ],\n",
       "       [22.    , 24.    , 25.5   ,  7.293 ,  3.723 ],\n",
       "       [22.    , 24.    , 25.5   ,  6.375 ,  3.825 ],\n",
       "       [22.6   , 24.6   , 26.2   ,  6.7334,  4.1658],\n",
       "       [23.    , 25.    , 26.5   ,  6.4395,  3.6835],\n",
       "       [23.5   , 25.6   , 27.    ,  6.561 ,  4.239 ],\n",
       "       [25.    , 26.5   , 28.    ,  7.168 ,  4.144 ],\n",
       "       [25.2   , 27.3   , 28.7   ,  8.323 ,  5.1373],\n",
       "       [25.4   , 27.5   , 28.9   ,  7.1672,  4.335 ],\n",
       "       [25.4   , 27.5   , 28.9   ,  7.0516,  4.335 ],\n",
       "       [25.4   , 27.5   , 28.9   ,  7.2828,  4.5662],\n",
       "       [25.9   , 28.    , 29.4   ,  7.8204,  4.2042],\n",
       "       [26.9   , 28.7   , 30.1   ,  7.5852,  4.6354],\n",
       "       [27.8   , 30.    , 31.6   ,  7.6156,  4.7716],\n",
       "       [30.5   , 32.8   , 34.    , 10.03  ,  6.018 ],\n",
       "       [32.    , 34.5   , 36.5   , 10.2565,  6.3875],\n",
       "       [32.5   , 35.    , 37.3   , 11.4884,  7.7957],\n",
       "       [34.    , 36.5   , 39.    , 10.881 ,  6.864 ],\n",
       "       [34.    , 36.    , 38.3   , 10.6091,  6.7408],\n",
       "       [34.5   , 37.    , 39.4   , 10.835 ,  6.2646],\n",
       "       [34.6   , 37.    , 39.3   , 10.5717,  6.3666],\n",
       "       [36.5   , 39.    , 41.4   , 11.1366,  7.4934],\n",
       "       [36.5   , 39.    , 41.4   , 11.1366,  6.003 ],\n",
       "       [36.6   , 39.    , 41.3   , 12.4313,  7.3514],\n",
       "       [36.9   , 40.    , 42.3   , 11.9286,  7.1064],\n",
       "       [37.    , 40.    , 42.5   , 11.73  ,  7.225 ],\n",
       "       [37.    , 40.    , 42.4   , 12.3808,  7.4624],\n",
       "       [37.1   , 40.    , 42.5   , 11.135 ,  6.63  ],\n",
       "       [39.    , 42.    , 44.6   , 12.8002,  6.8684],\n",
       "       [39.8   , 43.    , 45.2   , 11.9328,  7.2772],\n",
       "       [40.1   , 43.    , 45.5   , 12.5125,  7.4165],\n",
       "       [40.2   , 43.5   , 46.    , 12.604 ,  8.142 ],\n",
       "       [41.1   , 44.    , 46.6   , 12.4888,  7.5958],\n",
       "       [30.    , 32.3   , 34.8   ,  5.568 ,  3.3756],\n",
       "       [31.7   , 34.    , 37.8   ,  5.7078,  4.158 ],\n",
       "       [32.7   , 35.    , 38.8   ,  5.9364,  4.3844],\n",
       "       [34.8   , 37.3   , 39.8   ,  6.2884,  4.0198],\n",
       "       [35.5   , 38.    , 40.5   ,  7.29  ,  4.5765],\n",
       "       [36.    , 38.5   , 41.    ,  6.396 ,  3.977 ],\n",
       "       [40.    , 42.5   , 45.5   ,  7.28  ,  4.3225],\n",
       "       [40.    , 42.5   , 45.5   ,  6.825 ,  4.459 ],\n",
       "       [40.1   , 43.    , 45.8   ,  7.786 ,  5.1296],\n",
       "       [42.    , 45.    , 48.    ,  6.96  ,  4.896 ],\n",
       "       [43.2   , 46.    , 48.7   ,  7.792 ,  4.87  ],\n",
       "       [44.8   , 48.    , 51.2   ,  7.68  ,  5.376 ],\n",
       "       [48.3   , 51.7   , 55.1   ,  8.9262,  6.1712],\n",
       "       [52.    , 56.    , 59.7   , 10.6863,  6.9849],\n",
       "       [56.    , 60.    , 64.    ,  9.6   ,  6.144 ],\n",
       "       [56.    , 60.    , 64.    ,  9.6   ,  6.144 ],\n",
       "       [59.    , 63.4   , 68.    , 10.812 ,  7.48  ],\n",
       "       [ 9.3   ,  9.8   , 10.8   ,  1.7388,  1.0476],\n",
       "       [10.    , 10.5   , 11.6   ,  1.972 ,  1.16  ],\n",
       "       [10.1   , 10.6   , 11.6   ,  1.7284,  1.1484],\n",
       "       [10.4   , 11.    , 12.    ,  2.196 ,  1.38  ],\n",
       "       [10.7   , 11.2   , 12.4   ,  2.0832,  1.2772],\n",
       "       [10.8   , 11.3   , 12.6   ,  1.9782,  1.2852],\n",
       "       [11.3   , 11.8   , 13.1   ,  2.2139,  1.2838],\n",
       "       [11.3   , 11.8   , 13.1   ,  2.2139,  1.1659],\n",
       "       [11.4   , 12.    , 13.2   ,  2.2044,  1.1484],\n",
       "       [11.5   , 12.2   , 13.4   ,  2.0904,  1.3936],\n",
       "       [11.7   , 12.4   , 13.5   ,  2.43  ,  1.269 ],\n",
       "       [12.1   , 13.    , 13.8   ,  2.277 ,  1.2558],\n",
       "       [13.2   , 14.3   , 15.2   ,  2.8728,  2.0672],\n",
       "       [13.8   , 15.    , 16.2   ,  2.9322,  1.8792]])"
      ]
     },
     "execution_count": 151,
     "metadata": {},
     "output_type": "execute_result"
    }
   ],
   "source": [
    "X"
   ]
  },
  {
   "cell_type": "code",
   "execution_count": 152,
   "id": "86d97a9d",
   "metadata": {},
   "outputs": [],
   "source": [
    "y = dataframe[\"Weight\"].values # вес будем предсказывать"
   ]
  },
  {
   "cell_type": "code",
   "execution_count": 153,
   "id": "bfd0ede1",
   "metadata": {},
   "outputs": [
    {
     "data": {
      "text/plain": [
       "array([ 242. ,  290. ,  340. ,  363. ,  430. ,  450. ,  500. ,  390. ,\n",
       "        450. ,  500. ,  475. ,  500. ,  500. ,  340. ,  600. ,  600. ,\n",
       "        700. ,  700. ,  610. ,  650. ,  575. ,  685. ,  620. ,  680. ,\n",
       "        700. ,  725. ,  720. ,  714. ,  850. , 1000. ,  920. ,  955. ,\n",
       "        925. ,  975. ,  950. ,   40. ,   69. ,   78. ,   87. ,  120. ,\n",
       "          0. ,  110. ,  120. ,  150. ,  145. ,  160. ,  140. ,  160. ,\n",
       "        169. ,  161. ,  200. ,  180. ,  290. ,  272. ,  390. ,  270. ,\n",
       "        270. ,  306. ,  540. ,  800. , 1000. ,   55. ,   60. ,   90. ,\n",
       "        120. ,  150. ,  140. ,  170. ,  145. ,  200. ,  273. ,  300. ,\n",
       "          5.9,   32. ,   40. ,   51.5,   70. ,  100. ,   78. ,   80. ,\n",
       "         85. ,   85. ,  110. ,  115. ,  125. ,  130. ,  120. ,  120. ,\n",
       "        130. ,  135. ,  110. ,  130. ,  150. ,  145. ,  150. ,  170. ,\n",
       "        225. ,  145. ,  188. ,  180. ,  197. ,  218. ,  300. ,  260. ,\n",
       "        265. ,  250. ,  250. ,  300. ,  320. ,  514. ,  556. ,  840. ,\n",
       "        685. ,  700. ,  700. ,  690. ,  900. ,  650. ,  820. ,  850. ,\n",
       "        900. , 1015. ,  820. , 1100. , 1000. , 1100. , 1000. , 1000. ,\n",
       "        200. ,  300. ,  300. ,  300. ,  430. ,  345. ,  456. ,  510. ,\n",
       "        540. ,  500. ,  567. ,  770. ,  950. , 1250. , 1600. , 1550. ,\n",
       "       1650. ,    6.7,    7.5,    7. ,    9.7,    9.8,    8.7,   10. ,\n",
       "          9.9,    9.8,   12.2,   13.4,   12.2,   19.7,   19.9])"
      ]
     },
     "execution_count": 153,
     "metadata": {},
     "output_type": "execute_result"
    }
   ],
   "source": [
    "y"
   ]
  },
  {
   "cell_type": "code",
   "execution_count": 154,
   "id": "a45c4035",
   "metadata": {},
   "outputs": [
    {
     "data": {
      "text/html": [
       "<style>#sk-container-id-5 {color: black;background-color: white;}#sk-container-id-5 pre{padding: 0;}#sk-container-id-5 div.sk-toggleable {background-color: white;}#sk-container-id-5 label.sk-toggleable__label {cursor: pointer;display: block;width: 100%;margin-bottom: 0;padding: 0.3em;box-sizing: border-box;text-align: center;}#sk-container-id-5 label.sk-toggleable__label-arrow:before {content: \"▸\";float: left;margin-right: 0.25em;color: #696969;}#sk-container-id-5 label.sk-toggleable__label-arrow:hover:before {color: black;}#sk-container-id-5 div.sk-estimator:hover label.sk-toggleable__label-arrow:before {color: black;}#sk-container-id-5 div.sk-toggleable__content {max-height: 0;max-width: 0;overflow: hidden;text-align: left;background-color: #f0f8ff;}#sk-container-id-5 div.sk-toggleable__content pre {margin: 0.2em;color: black;border-radius: 0.25em;background-color: #f0f8ff;}#sk-container-id-5 input.sk-toggleable__control:checked~div.sk-toggleable__content {max-height: 200px;max-width: 100%;overflow: auto;}#sk-container-id-5 input.sk-toggleable__control:checked~label.sk-toggleable__label-arrow:before {content: \"▾\";}#sk-container-id-5 div.sk-estimator input.sk-toggleable__control:checked~label.sk-toggleable__label {background-color: #d4ebff;}#sk-container-id-5 div.sk-label input.sk-toggleable__control:checked~label.sk-toggleable__label {background-color: #d4ebff;}#sk-container-id-5 input.sk-hidden--visually {border: 0;clip: rect(1px 1px 1px 1px);clip: rect(1px, 1px, 1px, 1px);height: 1px;margin: -1px;overflow: hidden;padding: 0;position: absolute;width: 1px;}#sk-container-id-5 div.sk-estimator {font-family: monospace;background-color: #f0f8ff;border: 1px dotted black;border-radius: 0.25em;box-sizing: border-box;margin-bottom: 0.5em;}#sk-container-id-5 div.sk-estimator:hover {background-color: #d4ebff;}#sk-container-id-5 div.sk-parallel-item::after {content: \"\";width: 100%;border-bottom: 1px solid gray;flex-grow: 1;}#sk-container-id-5 div.sk-label:hover label.sk-toggleable__label {background-color: #d4ebff;}#sk-container-id-5 div.sk-serial::before {content: \"\";position: absolute;border-left: 1px solid gray;box-sizing: border-box;top: 0;bottom: 0;left: 50%;z-index: 0;}#sk-container-id-5 div.sk-serial {display: flex;flex-direction: column;align-items: center;background-color: white;padding-right: 0.2em;padding-left: 0.2em;position: relative;}#sk-container-id-5 div.sk-item {position: relative;z-index: 1;}#sk-container-id-5 div.sk-parallel {display: flex;align-items: stretch;justify-content: center;background-color: white;position: relative;}#sk-container-id-5 div.sk-item::before, #sk-container-id-5 div.sk-parallel-item::before {content: \"\";position: absolute;border-left: 1px solid gray;box-sizing: border-box;top: 0;bottom: 0;left: 50%;z-index: -1;}#sk-container-id-5 div.sk-parallel-item {display: flex;flex-direction: column;z-index: 1;position: relative;background-color: white;}#sk-container-id-5 div.sk-parallel-item:first-child::after {align-self: flex-end;width: 50%;}#sk-container-id-5 div.sk-parallel-item:last-child::after {align-self: flex-start;width: 50%;}#sk-container-id-5 div.sk-parallel-item:only-child::after {width: 0;}#sk-container-id-5 div.sk-dashed-wrapped {border: 1px dashed gray;margin: 0 0.4em 0.5em 0.4em;box-sizing: border-box;padding-bottom: 0.4em;background-color: white;}#sk-container-id-5 div.sk-label label {font-family: monospace;font-weight: bold;display: inline-block;line-height: 1.2em;}#sk-container-id-5 div.sk-label-container {text-align: center;}#sk-container-id-5 div.sk-container {/* jupyter's `normalize.less` sets `[hidden] { display: none; }` but bootstrap.min.css set `[hidden] { display: none !important; }` so we also need the `!important` here to be able to override the default hidden behavior on the sphinx rendered scikit-learn.org. See: https://github.com/scikit-learn/scikit-learn/issues/21755 */display: inline-block !important;position: relative;}#sk-container-id-5 div.sk-text-repr-fallback {display: none;}</style><div id=\"sk-container-id-5\" class=\"sk-top-container\"><div class=\"sk-text-repr-fallback\"><pre>LinearRegression()</pre><b>In a Jupyter environment, please rerun this cell to show the HTML representation or trust the notebook. <br />On GitHub, the HTML representation is unable to render, please try loading this page with nbviewer.org.</b></div><div class=\"sk-container\" hidden><div class=\"sk-item\"><div class=\"sk-estimator sk-toggleable\"><input class=\"sk-toggleable__control sk-hidden--visually\" id=\"sk-estimator-id-5\" type=\"checkbox\" checked><label for=\"sk-estimator-id-5\" class=\"sk-toggleable__label sk-toggleable__label-arrow\">LinearRegression</label><div class=\"sk-toggleable__content\"><pre>LinearRegression()</pre></div></div></div></div></div>"
      ],
      "text/plain": [
       "LinearRegression()"
      ]
     },
     "execution_count": 154,
     "metadata": {},
     "output_type": "execute_result"
    }
   ],
   "source": [
    "model = LinearRegression(fit_intercept=True) # модель регрессии по умолчанию будет использовать стандартный базис\n",
    "model"
   ]
  },
  {
   "cell_type": "code",
   "execution_count": 155,
   "id": "5bfff2ff",
   "metadata": {},
   "outputs": [
    {
     "data": {
      "text/html": [
       "<style>#sk-container-id-6 {color: black;background-color: white;}#sk-container-id-6 pre{padding: 0;}#sk-container-id-6 div.sk-toggleable {background-color: white;}#sk-container-id-6 label.sk-toggleable__label {cursor: pointer;display: block;width: 100%;margin-bottom: 0;padding: 0.3em;box-sizing: border-box;text-align: center;}#sk-container-id-6 label.sk-toggleable__label-arrow:before {content: \"▸\";float: left;margin-right: 0.25em;color: #696969;}#sk-container-id-6 label.sk-toggleable__label-arrow:hover:before {color: black;}#sk-container-id-6 div.sk-estimator:hover label.sk-toggleable__label-arrow:before {color: black;}#sk-container-id-6 div.sk-toggleable__content {max-height: 0;max-width: 0;overflow: hidden;text-align: left;background-color: #f0f8ff;}#sk-container-id-6 div.sk-toggleable__content pre {margin: 0.2em;color: black;border-radius: 0.25em;background-color: #f0f8ff;}#sk-container-id-6 input.sk-toggleable__control:checked~div.sk-toggleable__content {max-height: 200px;max-width: 100%;overflow: auto;}#sk-container-id-6 input.sk-toggleable__control:checked~label.sk-toggleable__label-arrow:before {content: \"▾\";}#sk-container-id-6 div.sk-estimator input.sk-toggleable__control:checked~label.sk-toggleable__label {background-color: #d4ebff;}#sk-container-id-6 div.sk-label input.sk-toggleable__control:checked~label.sk-toggleable__label {background-color: #d4ebff;}#sk-container-id-6 input.sk-hidden--visually {border: 0;clip: rect(1px 1px 1px 1px);clip: rect(1px, 1px, 1px, 1px);height: 1px;margin: -1px;overflow: hidden;padding: 0;position: absolute;width: 1px;}#sk-container-id-6 div.sk-estimator {font-family: monospace;background-color: #f0f8ff;border: 1px dotted black;border-radius: 0.25em;box-sizing: border-box;margin-bottom: 0.5em;}#sk-container-id-6 div.sk-estimator:hover {background-color: #d4ebff;}#sk-container-id-6 div.sk-parallel-item::after {content: \"\";width: 100%;border-bottom: 1px solid gray;flex-grow: 1;}#sk-container-id-6 div.sk-label:hover label.sk-toggleable__label {background-color: #d4ebff;}#sk-container-id-6 div.sk-serial::before {content: \"\";position: absolute;border-left: 1px solid gray;box-sizing: border-box;top: 0;bottom: 0;left: 50%;z-index: 0;}#sk-container-id-6 div.sk-serial {display: flex;flex-direction: column;align-items: center;background-color: white;padding-right: 0.2em;padding-left: 0.2em;position: relative;}#sk-container-id-6 div.sk-item {position: relative;z-index: 1;}#sk-container-id-6 div.sk-parallel {display: flex;align-items: stretch;justify-content: center;background-color: white;position: relative;}#sk-container-id-6 div.sk-item::before, #sk-container-id-6 div.sk-parallel-item::before {content: \"\";position: absolute;border-left: 1px solid gray;box-sizing: border-box;top: 0;bottom: 0;left: 50%;z-index: -1;}#sk-container-id-6 div.sk-parallel-item {display: flex;flex-direction: column;z-index: 1;position: relative;background-color: white;}#sk-container-id-6 div.sk-parallel-item:first-child::after {align-self: flex-end;width: 50%;}#sk-container-id-6 div.sk-parallel-item:last-child::after {align-self: flex-start;width: 50%;}#sk-container-id-6 div.sk-parallel-item:only-child::after {width: 0;}#sk-container-id-6 div.sk-dashed-wrapped {border: 1px dashed gray;margin: 0 0.4em 0.5em 0.4em;box-sizing: border-box;padding-bottom: 0.4em;background-color: white;}#sk-container-id-6 div.sk-label label {font-family: monospace;font-weight: bold;display: inline-block;line-height: 1.2em;}#sk-container-id-6 div.sk-label-container {text-align: center;}#sk-container-id-6 div.sk-container {/* jupyter's `normalize.less` sets `[hidden] { display: none; }` but bootstrap.min.css set `[hidden] { display: none !important; }` so we also need the `!important` here to be able to override the default hidden behavior on the sphinx rendered scikit-learn.org. See: https://github.com/scikit-learn/scikit-learn/issues/21755 */display: inline-block !important;position: relative;}#sk-container-id-6 div.sk-text-repr-fallback {display: none;}</style><div id=\"sk-container-id-6\" class=\"sk-top-container\"><div class=\"sk-text-repr-fallback\"><pre>LinearRegression()</pre><b>In a Jupyter environment, please rerun this cell to show the HTML representation or trust the notebook. <br />On GitHub, the HTML representation is unable to render, please try loading this page with nbviewer.org.</b></div><div class=\"sk-container\" hidden><div class=\"sk-item\"><div class=\"sk-estimator sk-toggleable\"><input class=\"sk-toggleable__control sk-hidden--visually\" id=\"sk-estimator-id-6\" type=\"checkbox\" checked><label for=\"sk-estimator-id-6\" class=\"sk-toggleable__label sk-toggleable__label-arrow\">LinearRegression</label><div class=\"sk-toggleable__content\"><pre>LinearRegression()</pre></div></div></div></div></div>"
      ],
      "text/plain": [
       "LinearRegression()"
      ]
     },
     "execution_count": 155,
     "metadata": {},
     "output_type": "execute_result"
    }
   ],
   "source": [
    "model.fit(X, y)"
   ]
  },
  {
   "cell_type": "code",
   "execution_count": 156,
   "id": "aeb209e7",
   "metadata": {},
   "outputs": [
    {
     "data": {
      "text/plain": [
       "0.8852867046546207"
      ]
     },
     "execution_count": 156,
     "metadata": {},
     "output_type": "execute_result"
    }
   ],
   "source": [
    "model.score(X,y)"
   ]
  },
  {
   "cell_type": "code",
   "execution_count": 157,
   "id": "87eed529",
   "metadata": {},
   "outputs": [
    {
     "data": {
      "text/plain": [
       "(array([ 62.35521443,  -6.52675249, -29.02621861,  28.29735132,\n",
       "         22.47330665]),\n",
       " -499.5869553569422)"
      ]
     },
     "execution_count": 157,
     "metadata": {},
     "output_type": "execute_result"
    }
   ],
   "source": [
    "(model.coef_,model.intercept_)"
   ]
  },
  {
   "cell_type": "markdown",
   "id": "b3f4edd9",
   "metadata": {},
   "source": [
    "<font color = 'red' size = 5>Задание 2 </font>\n",
    "\n",
    "1. Изучите подробно описанные выше примеры.\n",
    "2. Реализуйте функции для работы регрессии по произвольному базису самостоятельно (используйте только базовые функции и numpy), используя формулы, полученные выше. Используйте матричные вычисления!\n",
    "3. Попрактикуйте модели и вашу и встроенную на разных искусственных данных.\n",
    "4. Постройте модели (встроенную и вашу) для прогнозирования веса рыбы из файла Fish.csv. Попробуйте различные базисы, различные комбинации фич и постарайтесь повысить точность прогноза.\n",
    "5. Попытайтесь предсказать [Perfomance index](https://www.kaggle.com/datasets/nikhil7280/student-performance-multiple-linear-regression) студентов используя вашу собственную и встроенные модели с различными базисами. \n",
    "6. Подумайте, как повлияет на модель использование слишком большого количества базисных фич.\n",
    "7. В примере выше мы тестируем полученную модель на тех же данных, что и обучаем. В целом это не очень хорошо. Разделите изначальные данные на обучающую и тестовую выборку и повторите вычисления точности.\n",
    "\n",
    "\n",
    "Указание! Для оценки качества модели, в случае, если рисунок не возможен используйте [коэффициент детерминации](https://wiki.loginom.ru/articles/coefficient-of-determination.html): $$R^{2}=1-\\frac{(\\overline{y} -f(\\overline{x}))(\\overline{y} - f(\\overline{x}))^{T}}{(\\overline{y} - mean(\\overline{y}))(\\overline{y} - mean(\\overline{y}))^{T}},$$\n",
    "\n",
    "где $\\overline{y}$ - столбец обучающих меток, $f(\\overline{x})$ - функция предсказания применённая к вектор столбцу исходных признаков. "
   ]
  },
  {
   "cell_type": "markdown",
   "id": "356f4c0d-f539-408b-89f0-20c00dea4e49",
   "metadata": {},
   "source": [
    "<font color = 'magenta' size = 5>2 </font>"
   ]
  },
  {
   "cell_type": "code",
   "execution_count": null,
   "id": "a4068b7f-aa67-451c-bb4b-3d1b61d87414",
   "metadata": {},
   "outputs": [],
   "source": [
    "def createQ(X):\n",
    "    n = X.shape[0]\n",
    "    Q = np.concatenate([np.ones(n).reshape(n, 1), X], axis=1)\n",
    "    return Q\n",
    "\n",
    "def fit(X, y, fit_intercept = False, alpha = 0):\n",
    "        if fit_intercept:\n",
    "            Q = createQ(X)\n",
    "            ridge = alpha * np.eye(Q.shape[1])\n",
    "            rez = np.dot(np.dot(np.linalg.inv(np.dot(Q.T , Q) + ridge) , (Q.T)) , y)\n",
    "            intercept = rez[0]\n",
    "            coef = rez[1:]\n",
    "        else:    \n",
    "            intercept = 0\n",
    "            ridge = alpha * np.eye(X.shape[1])\n",
    "            coef = np.dot(np.dot(np.linalg.inv(np.dot(X.T, X) + ridge) , (X.T)) , y)\n",
    "        return intercept, coef\n",
    "\n",
    "def predict(X, intercept, coef):\n",
    "        Q = createQ(X)\n",
    "        return np.dot(Q , np.concatenate([[intercept], coef]))\n",
    "\n",
    "def score(X, y, intercept, coef):\n",
    "        Q = createQ(X)\n",
    "        f = np.dot(np.concatenate([[intercept], coef]), Q.T)\n",
    "        R2 = 1 - np.dot(y - f, (y - f).T) / np.dot(y - np.mean(y), (y - np.mean(y)).T)\n",
    "        return R2"
   ]
  },
  {
   "cell_type": "code",
   "execution_count": 758,
   "id": "5d995a9a-a4eb-403c-81bc-daa421420de1",
   "metadata": {},
   "outputs": [],
   "source": [
    "def scoreAdj(X, y, intercept, coef):\n",
    "        Q = createQ(X)\n",
    "        f = np.dot(np.concatenate([[intercept], coef]), Q.T)\n",
    "        R2 = 1 - np.dot(y - f, (y - f).T) / np.dot(y - np.mean(y), (y - np.mean(y)).T)\n",
    "        n = X.shape[0]  \n",
    "        p = X.shape[1]  \n",
    "        adjusted_R2 = 1 - (1 - R2) * (n - 1) / (n - p - 1)\n",
    "        return adjusted_R2"
   ]
  },
  {
   "cell_type": "markdown",
   "id": "9008f174-315a-4afe-a544-98a542b0052f",
   "metadata": {},
   "source": [
    "<font color = 'magenta' size = 5>3 </font>"
   ]
  },
  {
   "cell_type": "code",
   "execution_count": 759,
   "id": "064110be-c937-4103-bbb9-cc87c320b4e0",
   "metadata": {},
   "outputs": [],
   "source": [
    "rng = np.random.RandomState(1)\n",
    "x = 10 * rng.rand(50)\n",
    "X = x[:, np.newaxis]\n",
    "y = np.sin(x) + 0.1 * rng.randn(50)"
   ]
  },
  {
   "cell_type": "markdown",
   "id": "4db12ef4-72cd-4c26-ab01-1a78d90d6fec",
   "metadata": {},
   "source": [
    "Используем полиномиальный базис."
   ]
  },
  {
   "cell_type": "code",
   "execution_count": 760,
   "id": "286ea0cb-e2ba-4553-ace9-df155ca4633d",
   "metadata": {},
   "outputs": [],
   "source": [
    "poly = PolynomialFeatures(degree=4)"
   ]
  },
  {
   "cell_type": "code",
   "execution_count": 809,
   "id": "a5b528d5-64df-4982-8fe6-5b6e9e4d3054",
   "metadata": {},
   "outputs": [
    {
     "data": {
      "text/plain": [
       "(159, 462)"
      ]
     },
     "execution_count": 809,
     "metadata": {},
     "output_type": "execute_result"
    }
   ],
   "source": [
    "X_new = poly.fit_transform(X)\n",
    "X_new.shape"
   ]
  },
  {
   "cell_type": "code",
   "execution_count": 762,
   "id": "fa22c307-6dd5-44eb-8ac8-86f35876921d",
   "metadata": {},
   "outputs": [],
   "source": [
    "intercept, coef = fit(X_new, y)"
   ]
  },
  {
   "cell_type": "code",
   "execution_count": 763,
   "id": "ff4f810b-be63-460f-97f7-f054fa779a6e",
   "metadata": {},
   "outputs": [
    {
     "data": {
      "text/plain": [
       "0.8709660328448433"
      ]
     },
     "execution_count": 763,
     "metadata": {},
     "output_type": "execute_result"
    }
   ],
   "source": [
    "score(X_new, y,intercept, coef )"
   ]
  },
  {
   "cell_type": "code",
   "execution_count": 764,
   "id": "43b1c85f-9bdc-4e63-bab5-3e18bf703791",
   "metadata": {},
   "outputs": [
    {
     "data": {
      "text/plain": [
       "0.8563030820317573"
      ]
     },
     "execution_count": 764,
     "metadata": {},
     "output_type": "execute_result"
    }
   ],
   "source": [
    "scoreAdj(X_new, y,intercept, coef )"
   ]
  },
  {
   "cell_type": "code",
   "execution_count": 753,
   "id": "d800eb57-431e-4092-868c-3701a3eefef3",
   "metadata": {},
   "outputs": [
    {
     "data": {
      "text/plain": [
       "(0, array([-0.19599947,  2.16741907, -1.22565575,  0.20937262, -0.01096061]))"
      ]
     },
     "execution_count": 753,
     "metadata": {},
     "output_type": "execute_result"
    }
   ],
   "source": [
    "intercept, coef"
   ]
  },
  {
   "cell_type": "code",
   "execution_count": 754,
   "id": "9808ad35-ad86-4fd0-b280-8889362fa9ca",
   "metadata": {},
   "outputs": [
    {
     "data": {
      "text/plain": [
       "(array([-0.19599947,  2.16741907, -1.22565575,  0.20937262, -0.01096061]), 0.0)"
      ]
     },
     "execution_count": 754,
     "metadata": {},
     "output_type": "execute_result"
    }
   ],
   "source": [
    "model = LinearRegression(fit_intercept=False)\n",
    "model.fit(X_new, y)\n",
    "(model.coef_,model.intercept_)"
   ]
  },
  {
   "cell_type": "code",
   "execution_count": 755,
   "id": "2cf29ac9-c47e-4fe6-9f7f-a7a262121c7f",
   "metadata": {},
   "outputs": [
    {
     "data": {
      "text/plain": [
       "[<matplotlib.lines.Line2D at 0x25fd1c59190>]"
      ]
     },
     "execution_count": 755,
     "metadata": {},
     "output_type": "execute_result"
    },
    {
     "data": {
      "image/png": "[encoded data removed]",
      "text/plain": [
       "<Figure size 432x288 with 1 Axes>"
      ]
     },
     "metadata": {
      "needs_background": "light"
     },
     "output_type": "display_data"
    }
   ],
   "source": [
    "testx = np.linspace(np.min(x),np.max(x),50)[:, np.newaxis]\n",
    "plt.scatter(x, y, c ='red')\n",
    "plt.plot(testx, predict(poly.fit_transform(testx), intercept, coef))"
   ]
  },
  {
   "cell_type": "code",
   "execution_count": 1,
   "id": "f9df76cd-2bd0-405d-ba4a-eee5eff52d48",
   "metadata": {},
   "outputs": [
    {
     "ename": "NameError",
     "evalue": "name 'np' is not defined",
     "output_type": "error",
     "traceback": [
      "\u001b[1;31m---------------------------------------------------------------------------\u001b[0m",
      "\u001b[1;31mNameError\u001b[0m                                 Traceback (most recent call last)",
      "\u001b[1;32m~\\AppData\\Local\\Temp/ipykernel_1460/814965112.py\u001b[0m in \u001b[0;36m<module>\u001b[1;34m\u001b[0m\n\u001b[1;32m----> 1\u001b[1;33m \u001b[0mrng\u001b[0m \u001b[1;33m=\u001b[0m \u001b[0mnp\u001b[0m\u001b[1;33m.\u001b[0m\u001b[0mrandom\u001b[0m\u001b[1;33m.\u001b[0m\u001b[0mRandomState\u001b[0m\u001b[1;33m(\u001b[0m\u001b[1;36m1\u001b[0m\u001b[1;33m)\u001b[0m\u001b[1;33m\u001b[0m\u001b[1;33m\u001b[0m\u001b[0m\n\u001b[0m\u001b[0;32m      2\u001b[0m \u001b[0mx\u001b[0m \u001b[1;33m=\u001b[0m \u001b[1;36m10\u001b[0m \u001b[1;33m*\u001b[0m \u001b[0mrng\u001b[0m\u001b[1;33m.\u001b[0m\u001b[0mrand\u001b[0m\u001b[1;33m(\u001b[0m\u001b[1;36m100\u001b[0m\u001b[1;33m)\u001b[0m\u001b[1;33m\u001b[0m\u001b[1;33m\u001b[0m\u001b[0m\n\u001b[0;32m      3\u001b[0m \u001b[0mX\u001b[0m \u001b[1;33m=\u001b[0m \u001b[0mx\u001b[0m\u001b[1;33m[\u001b[0m\u001b[1;33m:\u001b[0m\u001b[1;33m,\u001b[0m \u001b[0mnp\u001b[0m\u001b[1;33m.\u001b[0m\u001b[0mnewaxis\u001b[0m\u001b[1;33m]\u001b[0m\u001b[1;33m\u001b[0m\u001b[1;33m\u001b[0m\u001b[0m\n\u001b[0;32m      4\u001b[0m \u001b[0my\u001b[0m \u001b[1;33m=\u001b[0m \u001b[0mnp\u001b[0m\u001b[1;33m.\u001b[0m\u001b[0mcos\u001b[0m\u001b[1;33m(\u001b[0m\u001b[0mx\u001b[0m\u001b[1;33m)\u001b[0m \u001b[1;33m-\u001b[0m \u001b[1;36m0.1\u001b[0m \u001b[1;33m*\u001b[0m \u001b[0mrng\u001b[0m\u001b[1;33m.\u001b[0m\u001b[0mrandn\u001b[0m\u001b[1;33m(\u001b[0m\u001b[1;36m100\u001b[0m\u001b[1;33m)\u001b[0m\u001b[1;33m\u001b[0m\u001b[1;33m\u001b[0m\u001b[0m\n",
      "\u001b[1;31mNameError\u001b[0m: name 'np' is not defined"
     ]
    }
   ],
   "source": [
    "rng = np.random.RandomState(1)\n",
    "x = 10 * rng.rand(100)\n",
    "X = x[:, np.newaxis]\n",
    "y = np.cos(x) - 0.1 * rng.randn(100)"
   ]
  },
  {
   "cell_type": "code",
   "execution_count": null,
   "id": "5834402f-6ea5-4603-b93e-c439c295b3a1",
   "metadata": {},
   "outputs": [],
   "source": [
    "testx = np.linspace(np.min(x),np.max(x),50)[:, np.newaxis]\n",
    "plt.scatter(x, y, c ='red')"
   ]
  },
  {
   "cell_type": "code",
   "execution_count": 771,
   "id": "a3ab929a-f90b-4b10-9dfd-eb14f91c3189",
   "metadata": {},
   "outputs": [],
   "source": [
    "poly = PolynomialFeatures(degree=6)"
   ]
  },
  {
   "cell_type": "code",
   "execution_count": 772,
   "id": "f290b56e-6eb1-4dc4-bb01-be331e04ee04",
   "metadata": {},
   "outputs": [],
   "source": [
    "X_new = poly.fit_transform(X)"
   ]
  },
  {
   "cell_type": "code",
   "execution_count": 773,
   "id": "70aca86f-64e7-4821-85b2-2a3c5d1359bb",
   "metadata": {},
   "outputs": [],
   "source": [
    "intercept, coef = fit(X_new, y)"
   ]
  },
  {
   "cell_type": "code",
   "execution_count": 774,
   "id": "cd964e39-7cf4-4bdd-a88c-c2c1408c7a75",
   "metadata": {},
   "outputs": [
    {
     "data": {
      "text/plain": [
       "0.9772886062497742"
      ]
     },
     "execution_count": 774,
     "metadata": {},
     "output_type": "execute_result"
    }
   ],
   "source": [
    "score(X_new, y,intercept, coef )"
   ]
  },
  {
   "cell_type": "code",
   "execution_count": 775,
   "id": "16457182-6e76-400e-b3ac-bc3df45f2c58",
   "metadata": {},
   "outputs": [
    {
     "data": {
      "text/plain": [
       "0.9755605654209527"
      ]
     },
     "execution_count": 775,
     "metadata": {},
     "output_type": "execute_result"
    }
   ],
   "source": [
    "scoreAdj(X_new, y,intercept, coef )"
   ]
  },
  {
   "cell_type": "code",
   "execution_count": 473,
   "id": "622b4f3d-ae0a-4ae8-9ea7-6f8ff8d3341a",
   "metadata": {},
   "outputs": [
    {
     "data": {
      "text/plain": [
       "(0,\n",
       " array([ 7.91084259e-01,  1.12346924e+00, -1.98612698e+00,  7.37786848e-01,\n",
       "        -1.06569239e-01,  6.30496178e-03, -1.16556021e-04]))"
      ]
     },
     "execution_count": 473,
     "metadata": {},
     "output_type": "execute_result"
    }
   ],
   "source": [
    "intercept, coef"
   ]
  },
  {
   "cell_type": "code",
   "execution_count": 474,
   "id": "44d167a8-d86b-4eff-9cd6-6de79d85687a",
   "metadata": {},
   "outputs": [
    {
     "data": {
      "text/plain": [
       "[<matplotlib.lines.Line2D at 0x25fc95d5e20>]"
      ]
     },
     "execution_count": 474,
     "metadata": {},
     "output_type": "execute_result"
    },
    {
     "data": {
      "image/png": "[encoded data removed]",
      "text/plain": [
       "<Figure size 432x288 with 1 Axes>"
      ]
     },
     "metadata": {
      "needs_background": "light"
     },
     "output_type": "display_data"
    }
   ],
   "source": [
    "testx = np.linspace(np.min(x),np.max(x),50)[:, np.newaxis]\n",
    "plt.scatter(x, y, c ='red')\n",
    "plt.plot(testx, predict(poly.fit_transform(testx), intercept, coef))"
   ]
  },
  {
   "cell_type": "markdown",
   "id": "333d7e20-f4f8-480a-ac8f-7d15fdf6ef36",
   "metadata": {},
   "source": [
    "<font color = 'magenta' size = 5>4</font>"
   ]
  },
  {
   "cell_type": "code",
   "execution_count": 801,
   "id": "3aee842c-45c9-4a26-9bb4-7ee9c54376bb",
   "metadata": {
    "scrolled": true
   },
   "outputs": [
    {
     "data": {
      "text/html": [
       "<div>\n",
       "<style scoped>\n",
       "    .dataframe tbody tr th:only-of-type {\n",
       "        vertical-align: middle;\n",
       "    }\n",
       "\n",
       "    .dataframe tbody tr th {\n",
       "        vertical-align: top;\n",
       "    }\n",
       "\n",
       "    .dataframe thead th {\n",
       "        text-align: right;\n",
       "    }\n",
       "</style>\n",
       "<table border=\"1\" class=\"dataframe\">\n",
       "  <thead>\n",
       "    <tr style=\"text-align: right;\">\n",
       "      <th></th>\n",
       "      <th>Species</th>\n",
       "      <th>Weight</th>\n",
       "      <th>Length1</th>\n",
       "      <th>Length2</th>\n",
       "      <th>Length3</th>\n",
       "      <th>Height</th>\n",
       "      <th>Width</th>\n",
       "    </tr>\n",
       "  </thead>\n",
       "  <tbody>\n",
       "    <tr>\n",
       "      <th>0</th>\n",
       "      <td>Bream</td>\n",
       "      <td>242.0</td>\n",
       "      <td>23.2</td>\n",
       "      <td>25.4</td>\n",
       "      <td>30.0</td>\n",
       "      <td>11.5200</td>\n",
       "      <td>4.0200</td>\n",
       "    </tr>\n",
       "    <tr>\n",
       "      <th>1</th>\n",
       "      <td>Bream</td>\n",
       "      <td>290.0</td>\n",
       "      <td>24.0</td>\n",
       "      <td>26.3</td>\n",
       "      <td>31.2</td>\n",
       "      <td>12.4800</td>\n",
       "      <td>4.3056</td>\n",
       "    </tr>\n",
       "    <tr>\n",
       "      <th>2</th>\n",
       "      <td>Bream</td>\n",
       "      <td>340.0</td>\n",
       "      <td>23.9</td>\n",
       "      <td>26.5</td>\n",
       "      <td>31.1</td>\n",
       "      <td>12.3778</td>\n",
       "      <td>4.6961</td>\n",
       "    </tr>\n",
       "    <tr>\n",
       "      <th>3</th>\n",
       "      <td>Bream</td>\n",
       "      <td>363.0</td>\n",
       "      <td>26.3</td>\n",
       "      <td>29.0</td>\n",
       "      <td>33.5</td>\n",
       "      <td>12.7300</td>\n",
       "      <td>4.4555</td>\n",
       "    </tr>\n",
       "    <tr>\n",
       "      <th>4</th>\n",
       "      <td>Bream</td>\n",
       "      <td>430.0</td>\n",
       "      <td>26.5</td>\n",
       "      <td>29.0</td>\n",
       "      <td>34.0</td>\n",
       "      <td>12.4440</td>\n",
       "      <td>5.1340</td>\n",
       "    </tr>\n",
       "  </tbody>\n",
       "</table>\n",
       "</div>"
      ],
      "text/plain": [
       "  Species  Weight  Length1  Length2  Length3   Height   Width\n",
       "0   Bream   242.0     23.2     25.4     30.0  11.5200  4.0200\n",
       "1   Bream   290.0     24.0     26.3     31.2  12.4800  4.3056\n",
       "2   Bream   340.0     23.9     26.5     31.1  12.3778  4.6961\n",
       "3   Bream   363.0     26.3     29.0     33.5  12.7300  4.4555\n",
       "4   Bream   430.0     26.5     29.0     34.0  12.4440  5.1340"
      ]
     },
     "execution_count": 801,
     "metadata": {},
     "output_type": "execute_result"
    }
   ],
   "source": [
    "dataframe = pd.read_csv(\"Fish.csv\") \n",
    "dataframe.head()"
   ]
  },
  {
   "cell_type": "markdown",
   "id": "4fff6bad-1302-4592-9381-05d2f12e6fb1",
   "metadata": {},
   "source": [
    "Встроенная"
   ]
  },
  {
   "cell_type": "code",
   "execution_count": 777,
   "id": "a207a225-ae30-4885-aa5b-c3fed1600ef8",
   "metadata": {},
   "outputs": [],
   "source": [
    "X = dataframe.drop([\"Species\",\"Weight\"],axis=1).values \n",
    "y = dataframe[\"Weight\"].values "
   ]
  },
  {
   "cell_type": "code",
   "execution_count": 778,
   "id": "543cfc5f-32f5-4db0-884d-89cbecd38dbd",
   "metadata": {},
   "outputs": [
    {
     "data": {
      "text/plain": [
       "0.8852867046546207"
      ]
     },
     "execution_count": 778,
     "metadata": {},
     "output_type": "execute_result"
    }
   ],
   "source": [
    "model = LinearRegression(fit_intercept=True)  \n",
    "model.fit(X, y)\n",
    "model.score(X,y)"
   ]
  },
  {
   "cell_type": "code",
   "execution_count": 779,
   "id": "78002818-b89f-4bca-ad5e-78e076ac9c70",
   "metadata": {},
   "outputs": [
    {
     "data": {
      "text/plain": [
       "(array([ 62.35521443,  -6.52675249, -29.02621861,  28.29735132,\n",
       "         22.47330665]),\n",
       " -499.5869553569422)"
      ]
     },
     "execution_count": 779,
     "metadata": {},
     "output_type": "execute_result"
    }
   ],
   "source": [
    "(model.coef_,model.intercept_)"
   ]
  },
  {
   "cell_type": "markdown",
   "id": "b2a616d6-ce7e-4c15-84b3-3bdcddd5c226",
   "metadata": {},
   "source": [
    "Моя"
   ]
  },
  {
   "cell_type": "code",
   "execution_count": 780,
   "id": "6cdb686f-4ffe-472d-8dee-b659bdc8edfc",
   "metadata": {},
   "outputs": [
    {
     "data": {
      "text/plain": [
       "(-499.58695535749064,\n",
       " array([ 62.35521443,  -6.52675249, -29.02621861,  28.29735132,\n",
       "         22.47330665]))"
      ]
     },
     "execution_count": 780,
     "metadata": {},
     "output_type": "execute_result"
    }
   ],
   "source": [
    "intercept, coef = fit(X,y, fit_intercept=True)\n",
    "intercept, coef"
   ]
  },
  {
   "cell_type": "code",
   "execution_count": 781,
   "id": "29273e17-933a-4123-a572-19572485764a",
   "metadata": {},
   "outputs": [
    {
     "data": {
      "text/plain": [
       "0.8852867046546206"
      ]
     },
     "execution_count": 781,
     "metadata": {},
     "output_type": "execute_result"
    }
   ],
   "source": [
    "score(X,y, intercept, coef)"
   ]
  },
  {
   "cell_type": "code",
   "execution_count": 782,
   "id": "c8cfd295-16ce-495c-959d-515d1308f8db",
   "metadata": {},
   "outputs": [
    {
     "data": {
      "text/plain": [
       "0.8852867046546206"
      ]
     },
     "execution_count": 782,
     "metadata": {},
     "output_type": "execute_result"
    }
   ],
   "source": [
    "score(X, y,intercept, coef )"
   ]
  },
  {
   "cell_type": "markdown",
   "id": "15681e98-bdfa-4ee7-8538-4ab6afe0d3fb",
   "metadata": {},
   "source": [
    "Генерация признаков на основе сплайнов"
   ]
  },
  {
   "cell_type": "code",
   "execution_count": 802,
   "id": "c98536a8-58dc-4eb5-842e-b8db61070671",
   "metadata": {},
   "outputs": [],
   "source": [
    "X = dataframe.drop([\"Species\",\"Weight\"],axis=1).values \n",
    "y = dataframe[\"Weight\"].values "
   ]
  },
  {
   "cell_type": "code",
   "execution_count": 803,
   "id": "6ba1bc59-fd99-46d7-b5bc-4d5b0073c2e4",
   "metadata": {},
   "outputs": [
    {
     "data": {
      "text/plain": [
       "0.9883558552423346"
      ]
     },
     "execution_count": 803,
     "metadata": {},
     "output_type": "execute_result"
    }
   ],
   "source": [
    "from sklearn.preprocessing import SplineTransformer\n",
    "from sklearn.pipeline import make_pipeline\n",
    "\n",
    "spline_transformer = SplineTransformer(n_knots=5, degree=6)\n",
    "model = make_pipeline(spline_transformer, LinearRegression())\n",
    "model.fit(X, y)\n",
    "y_pred = model.predict(X)\n",
    "model.score(X,y)"
   ]
  },
  {
   "cell_type": "code",
   "execution_count": 804,
   "id": "05f522c1-ebd2-46f2-945c-2e36364f642d",
   "metadata": {},
   "outputs": [],
   "source": [
    "X_new = spline_transformer.fit_transform(X)"
   ]
  },
  {
   "cell_type": "code",
   "execution_count": 808,
   "id": "9131cdeb-e44e-4bec-bdff-78ddc91497f1",
   "metadata": {},
   "outputs": [
    {
     "data": {
      "text/plain": [
       "(0,\n",
       " array([ 1.43234524e+16,  1.43234625e+16,  1.43234624e+16,  1.43234624e+16,\n",
       "         1.43234624e+16,  1.43234624e+16,  1.43234624e+16,  1.43234623e+16,\n",
       "         1.43234643e+16,  1.43226568e+16, -1.61445880e+16, -1.61445878e+16,\n",
       "        -1.61445879e+16, -1.61445879e+16, -1.61445879e+16, -1.61445879e+16,\n",
       "        -1.61445879e+16, -1.61445878e+16, -1.61445876e+16, -1.61431615e+16,\n",
       "         1.72123476e+15,  1.72122697e+15,  1.72122707e+15,  1.72122706e+15,\n",
       "         1.72122706e+15,  1.72122706e+15,  1.72122706e+15,  1.72122710e+15,\n",
       "         1.72122438e+15,  1.72063386e+15,  9.98980302e+13,  9.98984274e+13,\n",
       "         9.98984081e+13,  9.98984111e+13,  9.98984098e+13,  9.98984108e+13,\n",
       "         9.98984093e+13,  9.98984134e+13,  9.98983879e+13,  9.98989866e+13,\n",
       "         5.18628517e+08, -1.34266180e+07,  7.62213015e+05,  1.82468308e+05,\n",
       "         2.52452722e+05,  2.37588610e+05,  2.40674135e+05,  2.39830451e+05,\n",
       "         2.38868521e+05,  1.08170353e+05]))"
      ]
     },
     "execution_count": 808,
     "metadata": {},
     "output_type": "execute_result"
    }
   ],
   "source": [
    "intercept, coef"
   ]
  },
  {
   "cell_type": "markdown",
   "id": "16fc8018-6151-4791-8c2d-a92c873cad0b",
   "metadata": {},
   "source": [
    "<font color = 'magenta' size = 5>5 </font>"
   ]
  },
  {
   "cell_type": "code",
   "execution_count": 606,
   "id": "a4a100a6-8fee-492d-94b9-4eca733207db",
   "metadata": {},
   "outputs": [
    {
     "data": {
      "text/html": [
       "<div>\n",
       "<style scoped>\n",
       "    .dataframe tbody tr th:only-of-type {\n",
       "        vertical-align: middle;\n",
       "    }\n",
       "\n",
       "    .dataframe tbody tr th {\n",
       "        vertical-align: top;\n",
       "    }\n",
       "\n",
       "    .dataframe thead th {\n",
       "        text-align: right;\n",
       "    }\n",
       "</style>\n",
       "<table border=\"1\" class=\"dataframe\">\n",
       "  <thead>\n",
       "    <tr style=\"text-align: right;\">\n",
       "      <th></th>\n",
       "      <th>Hours Studied</th>\n",
       "      <th>Previous Scores</th>\n",
       "      <th>Extracurricular Activities</th>\n",
       "      <th>Sleep Hours</th>\n",
       "      <th>Sample Question Papers Practiced</th>\n",
       "      <th>Performance Index</th>\n",
       "    </tr>\n",
       "  </thead>\n",
       "  <tbody>\n",
       "    <tr>\n",
       "      <th>0</th>\n",
       "      <td>7</td>\n",
       "      <td>99</td>\n",
       "      <td>Yes</td>\n",
       "      <td>9</td>\n",
       "      <td>1</td>\n",
       "      <td>91.0</td>\n",
       "    </tr>\n",
       "    <tr>\n",
       "      <th>1</th>\n",
       "      <td>4</td>\n",
       "      <td>82</td>\n",
       "      <td>No</td>\n",
       "      <td>4</td>\n",
       "      <td>2</td>\n",
       "      <td>65.0</td>\n",
       "    </tr>\n",
       "    <tr>\n",
       "      <th>2</th>\n",
       "      <td>8</td>\n",
       "      <td>51</td>\n",
       "      <td>Yes</td>\n",
       "      <td>7</td>\n",
       "      <td>2</td>\n",
       "      <td>45.0</td>\n",
       "    </tr>\n",
       "    <tr>\n",
       "      <th>3</th>\n",
       "      <td>5</td>\n",
       "      <td>52</td>\n",
       "      <td>Yes</td>\n",
       "      <td>5</td>\n",
       "      <td>2</td>\n",
       "      <td>36.0</td>\n",
       "    </tr>\n",
       "    <tr>\n",
       "      <th>4</th>\n",
       "      <td>7</td>\n",
       "      <td>75</td>\n",
       "      <td>No</td>\n",
       "      <td>8</td>\n",
       "      <td>5</td>\n",
       "      <td>66.0</td>\n",
       "    </tr>\n",
       "  </tbody>\n",
       "</table>\n",
       "</div>"
      ],
      "text/plain": [
       "   Hours Studied  Previous Scores Extracurricular Activities  Sleep Hours  \\\n",
       "0              7               99                        Yes            9   \n",
       "1              4               82                         No            4   \n",
       "2              8               51                        Yes            7   \n",
       "3              5               52                        Yes            5   \n",
       "4              7               75                         No            8   \n",
       "\n",
       "   Sample Question Papers Practiced  Performance Index  \n",
       "0                                 1               91.0  \n",
       "1                                 2               65.0  \n",
       "2                                 2               45.0  \n",
       "3                                 2               36.0  \n",
       "4                                 5               66.0  "
      ]
     },
     "execution_count": 606,
     "metadata": {},
     "output_type": "execute_result"
    }
   ],
   "source": [
    "dataframe = pd.read_csv(\"Student_Performance.csv\")\n",
    "dataframe.head()"
   ]
  },
  {
   "cell_type": "code",
   "execution_count": 607,
   "id": "653c3831-a821-431a-8e7c-2f99dc377235",
   "metadata": {},
   "outputs": [],
   "source": [
    "dataframe = dataframe.replace({'Extracurricular Activities': {'Yes': 1, 'No': 0}})"
   ]
  },
  {
   "cell_type": "code",
   "execution_count": 608,
   "id": "1db5262c-09b0-49b2-a43b-9b9171dd1a91",
   "metadata": {},
   "outputs": [],
   "source": [
    "X = dataframe.drop(['Performance Index'], axis=1).values\n",
    "y = dataframe['Performance Index'].values"
   ]
  },
  {
   "cell_type": "code",
   "execution_count": 609,
   "id": "8cadb426-a035-47ce-be9b-44c06d44efc6",
   "metadata": {},
   "outputs": [
    {
     "data": {
      "text/html": [
       "<style>#sk-container-id-15 {color: black;background-color: white;}#sk-container-id-15 pre{padding: 0;}#sk-container-id-15 div.sk-toggleable {background-color: white;}#sk-container-id-15 label.sk-toggleable__label {cursor: pointer;display: block;width: 100%;margin-bottom: 0;padding: 0.3em;box-sizing: border-box;text-align: center;}#sk-container-id-15 label.sk-toggleable__label-arrow:before {content: \"▸\";float: left;margin-right: 0.25em;color: #696969;}#sk-container-id-15 label.sk-toggleable__label-arrow:hover:before {color: black;}#sk-container-id-15 div.sk-estimator:hover label.sk-toggleable__label-arrow:before {color: black;}#sk-container-id-15 div.sk-toggleable__content {max-height: 0;max-width: 0;overflow: hidden;text-align: left;background-color: #f0f8ff;}#sk-container-id-15 div.sk-toggleable__content pre {margin: 0.2em;color: black;border-radius: 0.25em;background-color: #f0f8ff;}#sk-container-id-15 input.sk-toggleable__control:checked~div.sk-toggleable__content {max-height: 200px;max-width: 100%;overflow: auto;}#sk-container-id-15 input.sk-toggleable__control:checked~label.sk-toggleable__label-arrow:before {content: \"▾\";}#sk-container-id-15 div.sk-estimator input.sk-toggleable__control:checked~label.sk-toggleable__label {background-color: #d4ebff;}#sk-container-id-15 div.sk-label input.sk-toggleable__control:checked~label.sk-toggleable__label {background-color: #d4ebff;}#sk-container-id-15 input.sk-hidden--visually {border: 0;clip: rect(1px 1px 1px 1px);clip: rect(1px, 1px, 1px, 1px);height: 1px;margin: -1px;overflow: hidden;padding: 0;position: absolute;width: 1px;}#sk-container-id-15 div.sk-estimator {font-family: monospace;background-color: #f0f8ff;border: 1px dotted black;border-radius: 0.25em;box-sizing: border-box;margin-bottom: 0.5em;}#sk-container-id-15 div.sk-estimator:hover {background-color: #d4ebff;}#sk-container-id-15 div.sk-parallel-item::after {content: \"\";width: 100%;border-bottom: 1px solid gray;flex-grow: 1;}#sk-container-id-15 div.sk-label:hover label.sk-toggleable__label {background-color: #d4ebff;}#sk-container-id-15 div.sk-serial::before {content: \"\";position: absolute;border-left: 1px solid gray;box-sizing: border-box;top: 0;bottom: 0;left: 50%;z-index: 0;}#sk-container-id-15 div.sk-serial {display: flex;flex-direction: column;align-items: center;background-color: white;padding-right: 0.2em;padding-left: 0.2em;position: relative;}#sk-container-id-15 div.sk-item {position: relative;z-index: 1;}#sk-container-id-15 div.sk-parallel {display: flex;align-items: stretch;justify-content: center;background-color: white;position: relative;}#sk-container-id-15 div.sk-item::before, #sk-container-id-15 div.sk-parallel-item::before {content: \"\";position: absolute;border-left: 1px solid gray;box-sizing: border-box;top: 0;bottom: 0;left: 50%;z-index: -1;}#sk-container-id-15 div.sk-parallel-item {display: flex;flex-direction: column;z-index: 1;position: relative;background-color: white;}#sk-container-id-15 div.sk-parallel-item:first-child::after {align-self: flex-end;width: 50%;}#sk-container-id-15 div.sk-parallel-item:last-child::after {align-self: flex-start;width: 50%;}#sk-container-id-15 div.sk-parallel-item:only-child::after {width: 0;}#sk-container-id-15 div.sk-dashed-wrapped {border: 1px dashed gray;margin: 0 0.4em 0.5em 0.4em;box-sizing: border-box;padding-bottom: 0.4em;background-color: white;}#sk-container-id-15 div.sk-label label {font-family: monospace;font-weight: bold;display: inline-block;line-height: 1.2em;}#sk-container-id-15 div.sk-label-container {text-align: center;}#sk-container-id-15 div.sk-container {/* jupyter's `normalize.less` sets `[hidden] { display: none; }` but bootstrap.min.css set `[hidden] { display: none !important; }` so we also need the `!important` here to be able to override the default hidden behavior on the sphinx rendered scikit-learn.org. See: https://github.com/scikit-learn/scikit-learn/issues/21755 */display: inline-block !important;position: relative;}#sk-container-id-15 div.sk-text-repr-fallback {display: none;}</style><div id=\"sk-container-id-15\" class=\"sk-top-container\"><div class=\"sk-text-repr-fallback\"><pre>LinearRegression()</pre><b>In a Jupyter environment, please rerun this cell to show the HTML representation or trust the notebook. <br />On GitHub, the HTML representation is unable to render, please try loading this page with nbviewer.org.</b></div><div class=\"sk-container\" hidden><div class=\"sk-item\"><div class=\"sk-estimator sk-toggleable\"><input class=\"sk-toggleable__control sk-hidden--visually\" id=\"sk-estimator-id-15\" type=\"checkbox\" checked><label for=\"sk-estimator-id-15\" class=\"sk-toggleable__label sk-toggleable__label-arrow\">LinearRegression</label><div class=\"sk-toggleable__content\"><pre>LinearRegression()</pre></div></div></div></div></div>"
      ],
      "text/plain": [
       "LinearRegression()"
      ]
     },
     "execution_count": 609,
     "metadata": {},
     "output_type": "execute_result"
    }
   ],
   "source": [
    "model = LinearRegression(fit_intercept=True)\n",
    "model.fit(X, y)"
   ]
  },
  {
   "cell_type": "code",
   "execution_count": 610,
   "id": "4e2e75d1-fd83-4e22-86bb-add6fc3fe83c",
   "metadata": {},
   "outputs": [
    {
     "data": {
      "text/plain": [
       "0.9887523323780958"
      ]
     },
     "execution_count": 610,
     "metadata": {},
     "output_type": "execute_result"
    }
   ],
   "source": [
    "model.score(X,y)"
   ]
  },
  {
   "cell_type": "code",
   "execution_count": 611,
   "id": "cadcba91-166e-4248-8d91-0e406d0d5a12",
   "metadata": {},
   "outputs": [],
   "source": [
    "intercept, coef = fit(X, y)"
   ]
  },
  {
   "cell_type": "code",
   "execution_count": 612,
   "id": "e78be76e-084c-45de-9b36-8672d05f6d36",
   "metadata": {},
   "outputs": [
    {
     "data": {
      "text/plain": [
       "0.9079123364177972"
      ]
     },
     "execution_count": 612,
     "metadata": {},
     "output_type": "execute_result"
    }
   ],
   "source": [
    "score(X, y,intercept, coef )"
   ]
  },
  {
   "cell_type": "code",
   "execution_count": 613,
   "id": "bcdf9ef5-db30-49b0-853e-e32fd8488b36",
   "metadata": {},
   "outputs": [
    {
     "data": {
      "text/plain": [
       "(0, array([ 2.19598399,  0.81721967, -1.1708704 , -1.50360117, -0.26564863]))"
      ]
     },
     "execution_count": 613,
     "metadata": {},
     "output_type": "execute_result"
    }
   ],
   "source": [
    "intercept, coef"
   ]
  },
  {
   "cell_type": "code",
   "execution_count": 614,
   "id": "e1bf0b5f-98bc-4a6a-b997-9b3c35b23961",
   "metadata": {},
   "outputs": [
    {
     "data": {
      "text/plain": [
       "0.9887826568319227"
      ]
     },
     "execution_count": 614,
     "metadata": {},
     "output_type": "execute_result"
    }
   ],
   "source": [
    "from sklearn.preprocessing import SplineTransformer\n",
    "from sklearn.pipeline import make_pipeline\n",
    "\n",
    "spline_transformer = SplineTransformer(n_knots=5, degree=4)\n",
    "model = make_pipeline(spline_transformer, LinearRegression())\n",
    "model.fit(X, y)\n",
    "y_pred = model.predict(X)\n",
    "model.score(X,y)"
   ]
  },
  {
   "cell_type": "markdown",
   "id": "aa359094-5600-4d2d-b962-9b324488d626",
   "metadata": {},
   "source": [
    "<font color = 'magenta' size = 5>6 </font>"
   ]
  },
  {
   "cell_type": "code",
   "execution_count": 615,
   "id": "c75effe4-78ac-44db-802e-b192c057a4d9",
   "metadata": {},
   "outputs": [],
   "source": [
    "rng = np.random.RandomState(1)\n",
    "x = 10 * rng.rand(50)\n",
    "X = x[:, np.newaxis]\n",
    "y = np.sin(x) + 0.1 * rng.randn(50)"
   ]
  },
  {
   "cell_type": "code",
   "execution_count": 741,
   "id": "e41875fe-7a7c-4158-828a-de3fe6ad8bc8",
   "metadata": {},
   "outputs": [],
   "source": [
    "poly = PolynomialFeatures(degree=14)"
   ]
  },
  {
   "cell_type": "code",
   "execution_count": 742,
   "id": "b58dc4aa-c0ea-445a-8110-045c6165a011",
   "metadata": {},
   "outputs": [],
   "source": [
    "X_new = poly.fit_transform(X)"
   ]
  },
  {
   "cell_type": "code",
   "execution_count": 743,
   "id": "e1cc9da9-096e-420f-9a51-3e9260626275",
   "metadata": {},
   "outputs": [],
   "source": [
    "intercept, coef = fit(X_new, y)"
   ]
  },
  {
   "cell_type": "code",
   "execution_count": 744,
   "id": "4122eabf-7a3e-44a1-a783-9d24c7e7cc8a",
   "metadata": {},
   "outputs": [
    {
     "data": {
      "text/plain": [
       "0.8064638615722171"
      ]
     },
     "execution_count": 744,
     "metadata": {},
     "output_type": "execute_result"
    }
   ],
   "source": [
    "score(X_new, y,intercept, coef )"
   ]
  },
  {
   "cell_type": "code",
   "execution_count": 745,
   "id": "04bfa255-2440-4f96-9469-a94386c33cb2",
   "metadata": {},
   "outputs": [
    {
     "data": {
      "text/plain": [
       "(0,\n",
       " array([ 8.19251708e-01,  9.84672450e-01, -1.07375309e+00,  1.11015712e+00,\n",
       "        -8.69345038e-01,  3.84003042e-01, -9.63913201e-02,  1.17853693e-02,\n",
       "         6.27188021e-05, -1.72840650e-04,  5.53266990e-06,  3.08851578e-06,\n",
       "        -4.45763171e-07,  2.46647026e-08, -5.06764802e-10]))"
      ]
     },
     "execution_count": 745,
     "metadata": {},
     "output_type": "execute_result"
    }
   ],
   "source": [
    "intercept, coef"
   ]
  },
  {
   "cell_type": "code",
   "execution_count": 746,
   "id": "bf8d7c33-215c-41bc-baf9-3200734fc10a",
   "metadata": {},
   "outputs": [
    {
     "data": {
      "text/plain": [
       "[<matplotlib.lines.Line2D at 0x25fd1bc07f0>]"
      ]
     },
     "execution_count": 746,
     "metadata": {},
     "output_type": "execute_result"
    },
    {
     "data": {
      "image/png": "[encoded data removed]",
      "text/plain": [
       "<Figure size 432x288 with 1 Axes>"
      ]
     },
     "metadata": {
      "needs_background": "light"
     },
     "output_type": "display_data"
    }
   ],
   "source": [
    "testx = np.linspace(np.min(x),np.max(x),50)[:, np.newaxis]\n",
    "plt.scatter(x, y, c ='red')\n",
    "plt.plot(testx, predict(poly.fit_transform(testx), intercept, coef))"
   ]
  },
  {
   "cell_type": "markdown",
   "id": "f2893ca9-eafd-493a-8e65-cdf81e49042e",
   "metadata": {},
   "source": [
    "Увеличение количества базисных фич может привести к переобучению."
   ]
  },
  {
   "cell_type": "code",
   "execution_count": 649,
   "id": "c36d08dc-6fbf-4ee2-86bf-df672362d51d",
   "metadata": {},
   "outputs": [
    {
     "data": {
      "image/png": "[encoded data removed]",
      "text/plain": [
       "<Figure size 720x360 with 1 Axes>"
      ]
     },
     "metadata": {
      "needs_background": "light"
     },
     "output_type": "display_data"
    }
   ],
   "source": [
    "train_scores = []\n",
    "\n",
    "# Проверка моделей с разной степенью PolynomialFeatures\n",
    "for d in range(1, 17):\n",
    "    poly = PolynomialFeatures(degree=d)\n",
    "    X_new = poly.fit_transform(X)\n",
    "    intercept, coef = fit(X_new, y)\n",
    "    train_scores.append(score(X_new, y,intercept, coef ))\n",
    "\n",
    "plt.figure(figsize=(10, 5))\n",
    "plt.plot(range(1, 17), train_scores)\n",
    "plt.xlabel('Degree')\n",
    "plt.ylabel('R2')\n",
    "plt.show()"
   ]
  },
  {
   "cell_type": "markdown",
   "id": "346c7966-2696-488d-a7bc-fb8892b1acb1",
   "metadata": {},
   "source": [
    "<font color = 'magenta' size = 5>7</font>"
   ]
  },
  {
   "cell_type": "code",
   "execution_count": 765,
   "id": "077c9086-ba59-4f48-848d-e5f6d20704a7",
   "metadata": {},
   "outputs": [],
   "source": [
    "from sklearn.model_selection import train_test_split\n",
    "X_train, X_test, y_train, y_test = train_test_split(dataframe.drop(['Performance Index'], axis=1), dataframe['Performance Index'], test_size=.3, random_state=0)"
   ]
  },
  {
   "cell_type": "code",
   "execution_count": 766,
   "id": "502b3ff2-70e6-463f-a5d0-da11526da2c1",
   "metadata": {},
   "outputs": [],
   "source": [
    "intersect, coef = fit(X_train, y_train)"
   ]
  },
  {
   "cell_type": "code",
   "execution_count": 767,
   "id": "e9ad6bea-07fc-4e82-bed9-210d815975eb",
   "metadata": {},
   "outputs": [
    {
     "data": {
      "text/plain": [
       "0.9072862539233616"
      ]
     },
     "execution_count": 767,
     "metadata": {},
     "output_type": "execute_result"
    }
   ],
   "source": [
    "score(X_test,y_test, intersect, coef)"
   ]
  },
  {
   "cell_type": "code",
   "execution_count": 768,
   "id": "88f1cb3d-92bc-41cd-858b-e581e0c128c6",
   "metadata": {},
   "outputs": [
    {
     "data": {
      "text/plain": [
       "0.9071314213480833"
      ]
     },
     "execution_count": 768,
     "metadata": {},
     "output_type": "execute_result"
    }
   ],
   "source": [
    "scoreAdj(X_test,y_test, intersect, coef)"
   ]
  },
  {
   "cell_type": "code",
   "execution_count": 736,
   "id": "bcf7bcd0-d5b5-4c10-ba9e-07dcfe07a72a",
   "metadata": {},
   "outputs": [
    {
     "data": {
      "image/png": "[encoded data removed]",
      "text/plain": [
       "<Figure size 720x360 with 1 Axes>"
      ]
     },
     "metadata": {
      "needs_background": "light"
     },
     "output_type": "display_data"
    }
   ],
   "source": [
    "train_scores = []\n",
    "test_scores = []\n",
    "\n",
    "# Проверка моделей с разной степенью PolynomialFeatures\n",
    "for d in range(1, 5):\n",
    "    poly = PolynomialFeatures(degree=d)\n",
    "    X_new = poly.fit_transform(X_train)\n",
    "    intercept, coef = fit(X_new, y_train, alpha = 0.1)\n",
    "    train_scores.append(score(X_new, y_train,intercept, coef ))\n",
    "    X_new = poly.fit_transform(X_test)\n",
    "    intercept, coef = fit(X_new, y_test, alpha = 0.1)\n",
    "    test_scores.append(score(X_new, y_test,intercept, coef ))\n",
    "\n",
    "plt.figure(figsize=(10, 5))\n",
    "plt.plot(range(1, 5), train_scores, label='train score')\n",
    "plt.plot(range(1, 5), test_scores, label='test score' )\n",
    "plt.legend()\n",
    "plt.xlabel('Degree')\n",
    "plt.ylabel('R2')\n",
    "plt.show()"
   ]
  },
  {
   "cell_type": "markdown",
   "id": "fa18866f",
   "metadata": {},
   "source": [
    "to be continued... 🧡"
   ]
  },
  {
   "cell_type": "code",
   "execution_count": null,
   "id": "426f0425-2c43-4ed2-935c-aaba7dcba958",
   "metadata": {},
   "outputs": [],
   "source": []
  }
 ],
 "metadata": {
  "kernelspec": {
   "display_name": "Python 3 (ipykernel)",
   "language": "python",
   "name": "python3"
  },
  "language_info": {
   "codemirror_mode": {
    "name": "ipython",
    "version": 3
   },
   "file_extension": ".py",
   "mimetype": "text/x-python",
   "name": "python",
   "nbconvert_exporter": "python",
   "pygments_lexer": "ipython3",
   "version": "3.9.18"
  }
 },
 "nbformat": 4,
 "nbformat_minor": 5
}
